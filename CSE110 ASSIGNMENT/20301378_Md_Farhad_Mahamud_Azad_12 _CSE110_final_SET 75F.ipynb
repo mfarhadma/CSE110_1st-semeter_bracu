{
 "cells": [
  {
   "cell_type": "markdown",
   "metadata": {
    "colab_type": "text",
    "id": "0ZcT5c9CjT8P"
   },
   "source": [
    "# SUMMER 2020\n",
    "\n",
    "# CSE110 FINAL EXAM\n",
    "**<font color='red'>[MUST MAINTAIN VARIABLE NAMING CONVENTIONS FOR ALL THE TASKS]</font>**\n",
    "\n",
    "**<font color='red'>[Writing comments(explanatory sentences) in any of the code is completely optional]</font>**"
   ]
  },
  {
   "cell_type": "markdown",
   "metadata": {
    "colab_type": "text",
    "id": "hQCnOmw6iWER"
   },
   "source": [
    "# Task 01\n",
    "\n",
    "Write a function called show_triangle that takes a number as an argument and prints a triangle in the function.\n",
    "\n",
    "\n",
    "=============================================================\n",
    "\n",
    "\n",
    "**Sample example 1:**\n",
    "\n",
    "\n",
    "**Sample input 1:** 3\n",
    "\n",
    "**Function Call:** show_triangle(3)\n",
    "\n",
    "**Sample ouput 1:**\\\n",
    "1\\\n",
    "12\\\n",
    "123\n",
    "\n",
    "**Explanation:** \n",
    "Here the argument passed to the function is 3. Here, 3 is the number of lines printed. For each line, we have numbers printed to that line number. For example, line1 has only 1 number, line 2 has only 2 numbers and line3 has only 3 numbers. \n",
    "\n",
    "=============================================================\n",
    "\n",
    "\n",
    "**Sample example 2:**\n",
    "\n",
    "**Sample input 2:** 4\n",
    "\n",
    "**Function Call:** show_triangle(4)\n",
    "\n",
    "**Sample ouput 2:**\\\n",
    "1\\\n",
    "12\\\n",
    "123\\\n",
    "1234\n",
    "\n",
    "**Explanation**: \n",
    "Here the argument passed to the function is 4. Here, 4 is the number of lines printed. For each line, we have numbers printed to that line number. For example, line1 has only 1 number, line 2 has only 2 numbers, line3 has only 3 numbers and lastly, line4 has only 4 numbers. \n"
   ]
  },
  {
   "cell_type": "code",
   "execution_count": 2,
   "metadata": {
    "colab": {},
    "colab_type": "code",
    "id": "P0vIwmbeiWEU"
   },
   "outputs": [
    {
     "name": "stdout",
     "output_type": "stream",
     "text": [
      "Enter a number : 4\n",
      "1\n",
      "12\n",
      "123\n",
      "1234\n",
      "\n"
     ]
    }
   ],
   "source": [
    "#task 1\n",
    "#to do\n",
    "#funtion banabo.\n",
    "def  show_triangle(user_input):\n",
    "    '''triangle banabo '''\n",
    "    for cou1 in range(1 , user_input+1):\n",
    "        for cou2 in range (1, cou1+1):\n",
    "            print(cou2 ,end='')\n",
    "        print()\n",
    "    print()\n",
    "    \n",
    "#user input nibo    \n",
    "user_input = int(input(\"Enter a number : \"))\n",
    "\n",
    "#funtrion call korbo \n",
    "show_triangle(user_input)\n",
    "\n",
    "#code ended"
   ]
  },
  {
   "cell_type": "markdown",
   "metadata": {
    "colab_type": "text",
    "id": "zUyYKkWViWEd"
   },
   "source": [
    "# Task 02\n",
    "\n",
    "Take a String as input from the user. Then write a function that takes a String as an argument and returns a dictionary that contains the letters as Key and their corresponding ASCII code(values) as Value of the dictionary. Finally, print the returned dictionary **outside** the function. Consider, cases to be differnt. So, 'S' and 's' are differnt and unique letters.\n",
    "\n",
    "=============================================================\n",
    "\n",
    "**Sample example 1:**\n",
    "\n",
    "**Sample input 1:**\\\n",
    "Exam\n",
    "\n",
    "**Function Call:** function_name(\"Exam\")\n",
    "\n",
    "**Sample output 1:**\\\n",
    "{'E':69, 'x':120, 'a':97, 'm':109}\n",
    "\n",
    "**Explanation:** In sample input 1, there are 4 unique letters and thus the dictionary contains the ascii of  those 4 letters as value. Consider, cases to be differnt. \n",
    "\n",
    "=============================================================\n",
    "\n",
    "**Sample example 2:**\n",
    "\n",
    "**Sample input 2:**\\\n",
    "Semester\n",
    "\n",
    "**Function Call:** function_name(\"Semester\")\n",
    "\n",
    "**Sample output 2:**\\\n",
    "{ 'S':83, 'e':101, 'm':109, 's':115, 't':116, 'r':114 } \n",
    "\n",
    "**Explanation:** In sample input 2, there are 6 unique letters and thus the dictionary contains the ascii of  those 6 letters as value. Consider, cases to be differnt. So, 'S' and 's' are differnt and unique letters.\n",
    "\n",
    "**Hint:** Use the ord() function to find the ascii value of each character ."
   ]
  },
  {
   "cell_type": "code",
   "execution_count": 9,
   "metadata": {
    "colab": {},
    "colab_type": "code",
    "id": "_oEJ6XwgiWEh"
   },
   "outputs": [
    {
     "name": "stdout",
     "output_type": "stream",
     "text": [
      "Enter a string : Semester\n",
      "{'S': 83, 'e': 101, 'm': 109, 's': 115, 't': 116, 'r': 114}\n"
     ]
    }
   ],
   "source": [
    "#task 2\n",
    "#to do\n",
    "def ord_dict(user_input):\n",
    "    '''khali  dict niye ata te str and value golo rhakbo'''\n",
    "    dict1={}\n",
    "    for i in user_input :\n",
    "        a= ord(i)\n",
    "        dict1[i]= a\n",
    "    return dict1\n",
    "\n",
    "#user input nibo.\n",
    "user_input = input(\"Enter a string : \")\n",
    "\n",
    "#funtion ta print korbo, and aikhane return  kora hoyeche .\n",
    "print(ord_dict(user_input))\n",
    "\n",
    "#code ended"
   ]
  },
  {
   "cell_type": "markdown",
   "metadata": {
    "colab_type": "text",
    "id": "CEhXrQIhiWEo"
   },
   "source": [
    "# Task 03\n",
    "\n",
    "Write a function that takes two arguments as an input from the user. First argument is a string and the second argument is an integer. Both the arguments have to be taken as an input from the user. Your task is to create a new string which will only contain the characters from the string(first argument of your function), if their ascii values are divisible by the given integer (second argument of your function). Finally print the new string **inside** the function.\n",
    "\n",
    "\n",
    "=============================================================\n",
    "\n",
    "\n",
    "**Sample example 1:**\\\n",
    "**Sample input 1:**\\\n",
    "ad bc\\\n",
    "2\n",
    "\n",
    "**Function Call:** function_name('ad b', 2)\\\n",
    "**Sample output 1:**\\\n",
    "d b\n",
    "\n",
    "**Explanation**: \n",
    "Here two arguments are passed to the function. If you iterate over the characters of the given string and find their corresponding ascii values, they are 97, 100, 32 and 98 respectively. After doing mod in each ascii value, the values which are divisible by the second argument are concatenated in a new string variable. Finally since the ascii values of 'd', ' ' and 'b' is divisible by 2 we get the final output.\n",
    "\n",
    "=============================================================\n",
    "\n",
    "**Sample example 2:**\\\n",
    "**Sample input 2:**\\\n",
    "I love programming\\\n",
    "5\n",
    "\n",
    "**Function Call:** function_name('I love programming', 5)\\\n",
    "**Sample output 2:**\\\n",
    "in\n",
    "\n",
    "**Explanation:** \n",
    "Here two arguments are passed to the function.  If you iterate over the characters of the given  string and find their corresponding ascii values, you will see 'i' and 'n' is only divisible by 5. Therefore, add these characters to a new string and when the loop ends you will get the final output.\n",
    "\n",
    "**Hint:** Use the ord() function to find the ascii value of each character and mod by the integer to find if the character is divisible or not.\n",
    "\n"
   ]
  },
  {
   "cell_type": "code",
   "execution_count": 1,
   "metadata": {
    "colab": {},
    "colab_type": "code",
    "id": "gWQIR06LiWEp"
   },
   "outputs": [
    {
     "name": "stdout",
     "output_type": "stream",
     "text": [
      "Enter a string : I love programming\n",
      "Enter a number : 5\n",
      "in\n"
     ]
    }
   ],
   "source": [
    "#task 3\n",
    "#to do\n",
    "#user input golo nibo.\n",
    "str1 = input('Enter a string : ' ) \n",
    "num = int(input(\"Enter a number : \"))\n",
    "\n",
    "#funtion banabo\n",
    "def even_ord( str1 , num ):\n",
    "    \"\"\"new_s a even ord er letter golo rhakbo\"\"\"\n",
    "    \n",
    "    new_s =''\n",
    "    \n",
    "    for cou1 in str1:\n",
    "        if (ord(cou1) % num == 0):\n",
    "            new_s += cou1\n",
    "    print(new_s)\n",
    "\n",
    "#funtion call dibo. jetar inside a new_s ta print ache.\n",
    "even_ord( str1 , num )\n",
    "\n",
    "#code ended."
   ]
  },
  {
   "cell_type": "code",
   "execution_count": null,
   "metadata": {
    "colab": {},
    "colab_type": "code",
    "id": "o16H8wWW9IBM"
   },
   "outputs": [],
   "source": []
  }
 ],
 "metadata": {
  "colab": {
   "collapsed_sections": [],
   "name": "Set_1.ipynb",
   "provenance": []
  },
  "kernelspec": {
   "display_name": "Python 3",
   "language": "python",
   "name": "python3"
  },
  "language_info": {
   "codemirror_mode": {
    "name": "ipython",
    "version": 3
   },
   "file_extension": ".py",
   "mimetype": "text/x-python",
   "name": "python",
   "nbconvert_exporter": "python",
   "pygments_lexer": "ipython3",
   "version": "3.7.6"
  }
 },
 "nbformat": 4,
 "nbformat_minor": 1
}
