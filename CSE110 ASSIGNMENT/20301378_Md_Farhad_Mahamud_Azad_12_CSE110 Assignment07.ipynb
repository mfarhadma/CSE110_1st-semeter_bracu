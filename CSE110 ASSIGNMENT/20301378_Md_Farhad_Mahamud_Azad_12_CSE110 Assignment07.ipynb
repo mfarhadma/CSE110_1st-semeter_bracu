{
 "cells": [
  {
   "cell_type": "markdown",
   "metadata": {
    "colab_type": "text",
    "id": "oMYzsTcnHEll"
   },
   "source": [
    "# CSE110 Assignment 7\n",
    "\n",
    "\n",
    "## Write the Python code of the following problems:\n",
    "**<font color='red'>[MUST MAINTAIN VARIABLE NAMING CONVENTIONS FOR ALL THE TASKS]</font>**"
   ]
  },
  {
   "cell_type": "markdown",
   "metadata": {
    "colab_type": "text",
    "id": "jT-t2zlnHEll"
   },
   "source": [
    "### Task 1\n",
    "\n",
    "Given a list named my_list. <br/>\n",
    "my_list=[10,1,20,3,6,2,5,11,15,2,12,14,17,18,29] <br/>\n",
    "Now use bubble sort to sort my_list into ascending order.\n",
    "\n",
    "**Output**<br/>\n",
    "[1, 2, 2, 3, 5, 6, 10, 11, 12, 14, 15, 17, 18, 20, 29]"
   ]
  },
  {
   "cell_type": "code",
   "execution_count": 22,
   "metadata": {
    "colab": {},
    "colab_type": "code",
    "id": "7qXVakLgHElm"
   },
   "outputs": [
    {
     "name": "stdout",
     "output_type": "stream",
     "text": [
      "[1, 2, 2, 3, 5, 6, 10, 11, 12, 14, 15, 17, 18, 20, 29]\n"
     ]
    }
   ],
   "source": [
    "#todo\n",
    "#given list\n",
    "my_list=[10,1,20,3,6,2,5,11,15,2,12,14,17,18,29]\n",
    "\n",
    "#sorting the list. bubble sorting\n",
    "for cou1 in range(len(my_list)):\n",
    "    for cou2 in range(0 , len(my_list)-cou1-1):\n",
    "        if my_list[cou2]>my_list[cou2+1]:\n",
    "            temp = my_list[cou2]\n",
    "            my_list[cou2]=my_list[cou2+1]\n",
    "            my_list[cou2+1]=temp\n",
    "\n",
    "#printing sorted list\n",
    "print(my_list)\n",
    "\n",
    "#code ended"
   ]
  },
  {
   "cell_type": "markdown",
   "metadata": {
    "colab_type": "text",
    "id": "w1QgeWd2HElp"
   },
   "source": [
    "### Task 2\n",
    "\n",
    "Given a list named my_list. <br/>\n",
    "my_list=[10,1,20,3,6,2,5,11,15,2,12,14,17,18,29] <br/>\n",
    "Now use selection sort to sort my_list into ascending order.\n",
    "\n",
    "**Output**<br/>\n",
    "[1, 2, 2, 3, 5, 6, 10, 11, 12, 14, 15, 17, 18, 20, 29]\n",
    "\n"
   ]
  },
  {
   "cell_type": "code",
   "execution_count": 1,
   "metadata": {
    "colab": {},
    "colab_type": "code",
    "id": "am0B_8ICHElq"
   },
   "outputs": [
    {
     "name": "stdout",
     "output_type": "stream",
     "text": [
      "[1, 2, 2, 3, 5, 6, 10, 11, 12, 14, 15, 17, 18, 20, 29]\n"
     ]
    }
   ],
   "source": [
    "#todo\n",
    "#given list\n",
    "my_list=[10,1,20,3,6,2,5,11,15,2,12,14,17,18,29]\n",
    "\n",
    "#sorting the list . selection sorting.\n",
    "for cou1 in range(len(my_list)):\n",
    "    min_i= cou1\n",
    "   \n",
    "    for cou2 in range(cou1+1 , len(my_list)):\n",
    "        if my_list[cou2]<my_list[min_i]:\n",
    "            min_i= cou2\n",
    "    temp= my_list[min_i]\n",
    "    my_list[min_i]=my_list[cou1]\n",
    "    my_list[cou1]=temp\n",
    "\n",
    "#printing the sorted list\n",
    "print(my_list)\n",
    "\n",
    "#code ended"
   ]
  },
  {
   "cell_type": "markdown",
   "metadata": {
    "colab_type": "text",
    "id": "j4ffr2CAHElt"
   },
   "source": [
    "### Task  3\n",
    "\n",
    "Given a list named my_list. <br/>\n",
    "my_list=[10,1,20,3,6,2,5,11,15,2,12,14,17,18,29] <br/>\n",
    "Now use any of the two sorts used above to sort the list in descending order.\n",
    "\n",
    "**Output**<br/>\n",
    "[29, 20, 18, 17, 15, 14, 12, 11, 10, 6, 5, 3, 2, 2, 1]\n"
   ]
  },
  {
   "cell_type": "code",
   "execution_count": 2,
   "metadata": {},
   "outputs": [
    {
     "name": "stdout",
     "output_type": "stream",
     "text": [
      "[29, 20, 18, 17, 15, 14, 12, 11, 10, 6, 5, 3, 2, 2, 1]\n"
     ]
    }
   ],
   "source": [
    "#todo \n",
    "my_list=[10,1,20,3,6,2,5,11,15,2,12,14,17,18,29]\n",
    "\n",
    "#sorting the list , selection sorting.\n",
    "for cou1 in range(len(my_list)):\n",
    "    min_i = cou1\n",
    "    for cou2 in range(cou1+1 , len(my_list)): \n",
    "        if my_list[min_i]<my_list[cou2]:\n",
    "            min_i =cou2      \n",
    "    temp= my_list[min_i]\n",
    "    my_list[min_i]= my_list[cou1]\n",
    "    my_list[cou1]=temp\n",
    "    \n",
    "#printing the sorted list  \n",
    "print(my_list)\n",
    "\n",
    "#code ended"
   ]
  },
  {
   "cell_type": "code",
   "execution_count": 3,
   "metadata": {},
   "outputs": [
    {
     "name": "stdout",
     "output_type": "stream",
     "text": [
      "[29, 20, 18, 17, 15, 14, 12, 11, 10, 6, 5, 3, 2, 2, 1]\n"
     ]
    }
   ],
   "source": [
    "#bobble sorting\n",
    "#given list\n",
    "my_list=[10,1,20,3,6,2,5,11,15,2,12,14,17,18,29]\n",
    "\n",
    "#sorting the list\n",
    "for cou1 in range(len(my_list)):\n",
    "    for cou2 in range(0 , len(my_list)-cou1-1): \n",
    "        if my_list[cou2]<my_list[cou2+1]:\n",
    "            temp=my_list[cou2]\n",
    "            my_list[cou2]=my_list[cou2+1]\n",
    "            my_list[cou2+1]=temp\n",
    "\n",
    "#printing soered list\n",
    "print(my_list)\n",
    "\n",
    "#code ended"
   ]
  },
  {
   "cell_type": "markdown",
   "metadata": {
    "colab_type": "text",
    "id": "9iYiiTWWHElw"
   },
   "source": [
    "### Task 4\n",
    "\n",
    "Suppose you have a sitting arrangement of the students of the final exam in a list. The list contains the last two digits of their roll number.<br/>\n",
    "\n",
    "sitting_list=[10,30,20,70,11,15,22,16,58,100,12,56,70,80] <br/>\n",
    "\n",
    "Now you want to organize the sitting arrangement. You decided to sort all the students in the even indices into ascending order and all the students in the odd indices  into descending order.  <br/>\n",
    "\n",
    "So write a python program that organizes the list for you the way you decided.<br/>\n",
    "\n",
    "\n",
    "**Sample Output**<br/>\n",
    "[10, 100, 11, 80, 12, 70, 20, 56, 22, 30, 58, 16, 70, 15]"
   ]
  },
  {
   "cell_type": "code",
   "execution_count": 4,
   "metadata": {},
   "outputs": [
    {
     "name": "stdout",
     "output_type": "stream",
     "text": [
      "[10, 100, 11, 80, 12, 70, 20, 56, 22, 30, 58, 16, 70, 15]\n"
     ]
    }
   ],
   "source": [
    "#given list\n",
    "sitting_list=[10,30,20,70,11,15,22,16,58,100,12,56,70,80]\n",
    "\n",
    "#odd and even index er value alada korbo\n",
    "list_even=[]\n",
    "list_odd=[]\n",
    "for cou1 in range(len(sitting_list)):\n",
    "    if cou1 % 2==0:\n",
    "        list_even.append(sitting_list[cou1])\n",
    "    else:\n",
    "        list_odd.append(sitting_list[cou1])\n",
    "        \n",
    "#alada list golo sort korbo\n",
    "list_even=sorted(list_even)\n",
    "list_odd=sorted(list_odd , reverse=True)\n",
    "\n",
    "#final list ta banabo.\n",
    "final_list=[]\n",
    "for cou1 in range(len(list_even)):\n",
    "\n",
    "    final_list.append(list_even[cou1])\n",
    "    final_list.append(list_odd[cou1])\n",
    "    \n",
    "print(final_list)\n",
    "        \n",
    "#code ended"
   ]
  },
  {
   "cell_type": "markdown",
   "metadata": {
    "colab_type": "text",
    "id": "oVR1Tsa0HElz"
   },
   "source": [
    "### Task 5\n",
    "\n",
    "Suppose a list contains the final exam results of CSE110, PHY111, and MAT110 of each student in a listed form. Your task is to sort the list based on a course name that will be given by the user and print the names after sorting. <br/>\n",
    "\n",
    "For example, a list looks like <br/>\n",
    "Lst = [ [‘Farzad’,95,87,91] , [‘Mahjabin’,92,90,83], [‘Sadman’,87,92,80], [‘Nakhla’,85,94,90] ] <br/>\n",
    "where for each list, 1st index is name, 2nd index is CSE110, 3rd index is PHY111 and 4th index is MAT110. \n",
    "\n",
    "**Sample Input**<br/>\n",
    "MAT110\n",
    "\n",
    "**Sample Output**<br/>\n",
    "Farzad <br/>\n",
    "Nakhla <br/>\n",
    "Mahjabin <br/>\n",
    "Sadman\n",
    "\n",
    "**Hint:**<br/>\n",
    "Nested list can be accessed by listname[firstIndex][secondIndex] like lst[0][0] will give Farzad\n"
   ]
  },
  {
   "cell_type": "code",
   "execution_count": 5,
   "metadata": {},
   "outputs": [
    {
     "name": "stdout",
     "output_type": "stream",
     "text": [
      "Enter subject name : mat110\n",
      "Farzad\n",
      "Nakhla\n",
      "Mahjabin\n",
      "Sadman\n"
     ]
    }
   ],
   "source": [
    "#todo\n",
    "#given list\n",
    "lst = [ ['Farzad',95,87,91] , ['Mahjabin',92,90,83], ['Sadman',87,92,80], ['Nakhla',85,94,90] ]\n",
    "\n",
    "#user input nibo\n",
    "user_input = input(\"Enter subject name : \").lower()\n",
    "\n",
    "#saving index number\n",
    "if user_input=='mat110' :\n",
    "    num=3   \n",
    "elif user_input == 'phy111':\n",
    "    num=2   \n",
    "elif user_input == 'cse110':\n",
    "    num=1\n",
    "\n",
    "#sub onojayi num golo niye num golo , num goloh list2 a rakbo\n",
    "list2=[]\n",
    "for cou1 in range(0,4): \n",
    "    list2.append((lst[cou1][num] , lst[cou1][0]))\n",
    "\n",
    "#list2 sort korbo\n",
    "list2= sorted(list2 , reverse= True)\n",
    "\n",
    "#sub onojayi name print korbo.\n",
    "for cou1 in list2:\n",
    "    print(cou1[1])\n",
    "\n",
    "#code ended"
   ]
  },
  {
   "cell_type": "markdown",
   "metadata": {
    "colab_type": "text",
    "id": "B0Rqbyi4HEl2"
   },
   "source": [
    "### Task 6\n",
    "\n",
    "Suppose you have a list named my_list. Your task is to sort the list and print the count of numbers that have changed their position. <br/>\n",
    "my_list = [4,2,3,1,6,5] <br/>\n",
    "Sorted list would be [1,2,3,4,5,6] where 4 numbers have changed their position.\n",
    "\n",
    "\n",
    "**Sample Output**<br/>\n",
    "4"
   ]
  },
  {
   "cell_type": "code",
   "execution_count": 6,
   "metadata": {},
   "outputs": [
    {
     "name": "stdout",
     "output_type": "stream",
     "text": [
      "4\n"
     ]
    }
   ],
   "source": [
    "#todo\n",
    "#given list\n",
    "my_list = [4,2,3,1,6,5]\n",
    "\n",
    "#Sorting the list\n",
    "my_list2= sorted(my_list)\n",
    "\n",
    "#counting the replace element \n",
    "count=0\n",
    "for cou1 in range(len(my_list)):\n",
    "    if my_list[cou1]!= my_list2[cou1]:\n",
    "        count+=1\n",
    "print(count)\n",
    "\n",
    "#code ended"
   ]
  },
  {
   "cell_type": "markdown",
   "metadata": {
    "colab_type": "text",
    "id": "iIH5n0sJHEl5"
   },
   "source": [
    "### Task 7\n",
    "\n",
    "Write a python program that takes two lists from the user, merges the two lists, sorts the list, and find the median of the elements of the two lists.\n",
    "\n",
    "**Sample Input 1**<br/>\n",
    "list_one= [1,2,1,4] <br/>\n",
    "list_two= [5,4,1]\n",
    "\n",
    "\n",
    "**Sample Output 1**<br/>\n",
    "Sorted list= [1, 1, 1, 2, 4, 4, 5] <br/>\n",
    "Median = 2\n",
    "\n",
    "**Sample Input 2**<br/>\n",
    "list_one= [1,7,9,10] <br/>\n",
    "list_two= [2,7,6,5]\n",
    "\n",
    "\n",
    "**Sample Output 2**<br/>\n",
    "Sorted list=[1, 2, 5, 6, 7, 7, 9, 10] <br/>\n",
    "Median=6.5\n",
    "\n"
   ]
  },
  {
   "cell_type": "code",
   "execution_count": 21,
   "metadata": {
    "colab": {},
    "colab_type": "code",
    "id": "KsFxC7XbHEl6"
   },
   "outputs": [
    {
     "name": "stdout",
     "output_type": "stream",
     "text": [
      "How many value do you to take for list1 : 2\n",
      "Enter a integer : 3\n",
      "Enter a integer : 4\n",
      "How many value do you to take for list2 : 2\n",
      "Enter a integer : 5\n",
      "Enter a integer : 6\n",
      "Sorted list=  [3, 4, 5, 6]\n",
      "Median=  4.5\n"
     ]
    }
   ],
   "source": [
    "#todo \n",
    "#1st list input nibo.\n",
    "list1=[]\n",
    "num1= int(input(\"How many value do you to take for list1 : \"))\n",
    "for iii in range(num1):\n",
    "    ele1= int(input(\"Enter a integer : \"))\n",
    "    list1.append(ele1)\n",
    "\n",
    "\n",
    "#2nd list input nibo.\n",
    "list2=[]\n",
    "num2= int(input(\"How many value do you to take for list2 : \"))\n",
    "for iii in range(num2):\n",
    "    ele2 = int(input(\"Enter a integer : \"))\n",
    "    list2.append(ele2)\n",
    "\n",
    "\n",
    "#list 1 and 2 ekshate list3 te rhakbo.\n",
    "list3= list1+list2\n",
    "\n",
    "#list 3 sort korbo.\n",
    "sort_list = sorted(list3)\n",
    "\n",
    "#list er lenght ta variable a save korbo.\n",
    "size = len(sort_list)\n",
    "\n",
    "#median ber korbo\n",
    "if size % 2==0:\n",
    "    med = (sort_list[(size//2)-1] + sort_list[(size//2)]) / 2\n",
    "else :\n",
    "    med = sort_list[(size//2)]\n",
    "\n",
    "#resylt print dibo.\n",
    "print('Sorted list= ' , sort_list)\n",
    "print('Median= ' , med)\n",
    "\n",
    "#code ended"
   ]
  },
  {
   "cell_type": "markdown",
   "metadata": {
    "colab_type": "text",
    "id": "-XKiwBR1HEl8"
   },
   "source": [
    "##### Task 8\n",
    "\n",
    "\n",
    "Write a python program that takes a list from user containing both positive and negative numbers. The program then finds two pairs of values whose summation is closest to zero.\n",
    "\n",
    "**Sample Input 1**<br/>\n",
    "list_one=[-10,15,2,4,-4,7,-8] \n",
    "\n",
    "\n",
    "**Sample Output 1**<br/>\n",
    "Two pairs which have the smallest sum = 4 and -4\n",
    "\n",
    "\n",
    "**Sample Input 2**<br/>\n",
    "list_one=[1,-8,4,-7,-20,26,70,-85]\n",
    "\n",
    "\n",
    "**Sample Output 2**<br/>\n",
    "Two pairs which have the smallest sum = 4 and -7"
   ]
  },
  {
   "cell_type": "code",
   "execution_count": 22,
   "metadata": {},
   "outputs": [
    {
     "name": "stdout",
     "output_type": "stream",
     "text": [
      "Enter how many input you want for list : 8\n",
      "Enter list value : 7\n",
      "Enter list value : 6\n",
      "Enter list value : 5\n",
      "Enter list value : 6\n",
      "Enter list value : 4\n",
      "Enter list value : 54\n",
      "Enter list value : 5\n",
      "Enter list value : 6\n",
      "Two pairs which have the smallest sum =  5  and  4\n"
     ]
    }
   ],
   "source": [
    "#todo\n",
    "# user theke list input nibo..\n",
    "\n",
    "num1=int(input(\"Enter how many input you want for list : \"))\n",
    "\n",
    "if num1 > 2:\n",
    "    #List banabo\n",
    "    list1=[]\n",
    "    for iii in range(num1):\n",
    "        us= int(input(\"Enter list value : \"))\n",
    "        list1.append(us)\n",
    "    \n",
    "    #minimum num and sum k Initialize  korbo.\n",
    "    min_l = 0\n",
    "    min_r = 1\n",
    "    min_sum = list1[0] + list1[1] \n",
    "    \n",
    "    for cou1 in range(len(list1)-1):\n",
    "        for cou2 in range(cou1+1 , len(list1)):\n",
    "            sum1= list1[cou1] + list1[cou2]\n",
    "            if abs(sum1) < abs(min_sum):\n",
    "                min_sum= sum1\n",
    "                min_l = cou1\n",
    "                min_r = cou2\n",
    "    print(\"Two pairs which have the smallest sum = \" , list1[min_l] ,\" and \" , list1[min_r])\n",
    "else:\n",
    "    print(\" list must have at list three element \")\n",
    "    \n",
    "#code ended"
   ]
  },
  {
   "cell_type": "code",
   "execution_count": null,
   "metadata": {},
   "outputs": [],
   "source": []
  }
 ],
 "metadata": {
  "colab": {
   "collapsed_sections": [],
   "name": "CSE110 Assignment07.ipynb",
   "provenance": []
  },
  "kernelspec": {
   "display_name": "Python 3",
   "language": "python",
   "name": "python3"
  },
  "language_info": {
   "codemirror_mode": {
    "name": "ipython",
    "version": 3
   },
   "file_extension": ".py",
   "mimetype": "text/x-python",
   "name": "python",
   "nbconvert_exporter": "python",
   "pygments_lexer": "ipython3",
   "version": "3.7.6"
  }
 },
 "nbformat": 4,
 "nbformat_minor": 1
}
