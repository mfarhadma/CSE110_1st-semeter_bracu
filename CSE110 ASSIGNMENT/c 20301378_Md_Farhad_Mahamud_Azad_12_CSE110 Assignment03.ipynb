{
 "cells": [
  {
   "cell_type": "markdown",
   "metadata": {},
   "source": [
    "# CSE110 Assignment 3\n",
    "\n"
   ]
  },
  {
   "cell_type": "markdown",
   "metadata": {},
   "source": [
    "\n",
    "## Write the Python code of the following problems:\n",
    "\n",
    "**<font color='red'>[MUST MAINTAIN VARIABLE NAMING CONVENTIONS FOR ALL THE TASKS]</font>**\n",
    "\n",
    "## Part 1: String\n",
    "\n",
    "\n",
    "\n"
   ]
  },
  {
   "cell_type": "markdown",
   "metadata": {},
   "source": [
    "### Task 1 \n",
    "\n",
    "Write a Python program that will ask the user to input a string (containing exactly one word). Then your program should print a subsequent substring of the given string.\n",
    "\n",
    "**Example1:**\\\n",
    "Input: BANGLA\\\n",
    "Output:\\\n",
    "B\\\n",
    "BA\\\n",
    "BAN\\\n",
    "BANG\\\n",
    "BANGL\\\n",
    "BANGLA\n",
    "\n",
    "**Example2:**\\\n",
    "Input: DREAM\\\n",
    "Output:\\\n",
    "D\\\n",
    "DR\\\n",
    "DRE\\\n",
    "DREA\\\n",
    "DREAM\n",
    "\n",
    "**Hints(1):** Need to use \"for loop\" for this task.\n",
    "\n",
    "**Hints(2):** Need to use print() function for prnting newlines.\n",
    "\n",
    "For example:\\\n",
    "print(1)\\\n",
    "print(2)\n",
    "\n",
    "Output:\\\n",
    "1\\\n",
    "2\n",
    "\n",
    "=====================================================================\n",
    "\n",
    "We need use print(end = \"\") to skip printing the additional newline.\n",
    "\n",
    "For example:\\\n",
    "print(1, end =\" \")\\\n",
    "print(2)\n",
    "\n",
    "Output:(prints the next output right to the previous one)\\\n",
    "12\n",
    "\n",
    "=====================================================================\n",
    "\n",
    "\n",
    "\n",
    "\n"
   ]
  },
  {
   "cell_type": "code",
   "execution_count": 131,
   "metadata": {},
   "outputs": [
    {
     "name": "stdout",
     "output_type": "stream",
     "text": [
      "Enter exactly one word : BANGLA\n",
      "B\n",
      "BA\n",
      "BAN\n",
      "BANG\n",
      "BANGL\n",
      "BANGLA\n"
     ]
    }
   ],
   "source": [
    "#Todo\n",
    "#user theke input nibo.\n",
    "aaa = input( \"Enter exactly one word : \")\n",
    "\n",
    "#quention onijayi out print korbo\n",
    "bbb= \"\"\n",
    "for i in  (aaa):\n",
    "    bbb= bbb + i\n",
    "    print(bbb)\n",
    "#code ended"
   ]
  },
  {
   "cell_type": "code",
   "execution_count": 47,
   "metadata": {},
   "outputs": [
    {
     "name": "stdout",
     "output_type": "stream",
     "text": [
      "Enter exactly one word : BANGLA\n",
      "B\n",
      "BA\n",
      "BAN\n",
      "BANG\n",
      "BANGL\n",
      "BANGLA\n"
     ]
    }
   ],
   "source": [
    "#Todo\n",
    "#user theke input nibo.\n",
    "aaa = input( \"Enter exactly one word : \")\n",
    "\n",
    "#quention onijayi out print korbo.\n",
    "for i in range (1, len(aaa)+1):\n",
    "    print(aaa[:i])\n",
    "\n",
    "#code ended"
   ]
  },
  {
   "cell_type": "markdown",
   "metadata": {},
   "source": [
    "### Task 2\n",
    "\n",
    "Write a Python program that will ask the user to enter two strings (s1, s2) as an input. Then create a mixed string with alternative characters from each string. Any leftover chars will be appended at the end of the result string.\n",
    "\n",
    "**Example 1:**\\\n",
    "Input:\\\n",
    "\"ABCD\"\\\n",
    "\"efgh\"\n",
    "\n",
    "Output:\\\n",
    "AeBfCgDh\n",
    "\n",
    "**Example 2:**\\\n",
    "Input:\\\n",
    "\"ABCDENDFGH\"\\\n",
    "\"ijkl\"\n",
    "\n",
    "Output:\\\n",
    "AiBjCkDlENDFGH\n",
    "\n",
    "**Example 3:**\\\n",
    "Input:\\\n",
    "\"ijkl\"\\\n",
    "\"ABCDENDFGH\"\n",
    "\n",
    "Output:\\\n",
    "iAjBkClDENDFGH\n",
    "\n",
    "*Hint: For adding the leftover characters use string slicing.*\n",
    "\n",
    "\n"
   ]
  },
  {
   "cell_type": "code",
   "execution_count": 65,
   "metadata": {},
   "outputs": [
    {
     "name": "stdout",
     "output_type": "stream",
     "text": [
      "Enter s1 : asdf\n",
      "Enter s2 : ASDFGHJK\n",
      "aAsSdDfFGHJK\n"
     ]
    }
   ],
   "source": [
    "#Todo\n",
    "aaa = input ( \"Enter s1 : \")\n",
    "bbb = input ( \"Enter s2 : \")\n",
    "#\n",
    "if (len(aaa) == len (bbb)):\n",
    "    for i in range (0 , len(aaa)):\n",
    "        print(aaa[i]+bbb[i], end=\"\")\n",
    "        \n",
    "#jodi aaa boro hoi\n",
    "elif( len(aaa) > len(bbb)) :\n",
    "    for i in range (0 , len(bbb)):\n",
    "        print(aaa[i]+bbb[i], end=\"\")\n",
    "    print(aaa[len(bbb):])\n",
    "\n",
    "#jodi bbb boro hoi\n",
    "elif( len(aaa) < len(bbb)) :  \n",
    "    for i in range (0 , len(aaa)):\n",
    "        print(aaa[i]+bbb[i], end=\"\")\n",
    "    print ( bbb[len(aaa):])\n",
    "#code ended"
   ]
  },
  {
   "cell_type": "markdown",
   "metadata": {},
   "source": [
    "### Task3\n",
    "\n",
    "Write a Python program that will ask the user to enter a  word as an input. If the length of the input string is less than 4, then your program should print the same string as an output. If the input string’s length is greater than 3, then your program should add “er” at the end of the input string. If the input string already ends with “er”, then add “est” instead. If the input string already ends with “est”, then your program should print the same string as an output.\n",
    "\n",
    "**Example 1:**\\\n",
    "Input: strong\\\n",
    "Output: stronger\n",
    "\n",
    "**Example 2:**\\\n",
    "Input: stronger\\\n",
    "Output: strongest\n",
    "\n",
    "**Example 3:**\\\n",
    "Input: strongest\\\n",
    "Output: strongest\n",
    "\n",
    "**Example 4:**\\\n",
    "Input: abc\\\n",
    "Output: abc\n"
   ]
  },
  {
   "cell_type": "code",
   "execution_count": null,
   "metadata": {},
   "outputs": [],
   "source": [
    "#Todo\n",
    "#user theke input nibo.\n",
    "aaa= input( \"Enter a word : \")\n",
    "\n",
    "#aaa er shes est thakle ba atar lentgh 4 er kom hole aaa akei thakbe.\n",
    "if (len(aaa) < 4 or aaa.endswith(\"est\")):\n",
    "    print (aaa)\n",
    "elif ( aaa.endswith(\"er\")):\n",
    "    print(aaa.replace(\"er\" , \"est\"))\n",
    "else :\n",
    "    print(aaa +\"er\")"
   ]
  },
  {
   "cell_type": "code",
   "execution_count": 117,
   "metadata": {},
   "outputs": [
    {
     "name": "stdout",
     "output_type": "stream",
     "text": [
      "Enter a word : stronger\n",
      "strongest\n"
     ]
    }
   ],
   "source": [
    "#Todo\n",
    "#user theke input nibo.\n",
    "aaa= input( \"Enter a word : \")\n",
    "\n",
    "if(len(aaa) < 4 ):\n",
    "    print (aaa)\n",
    "    \n",
    "elif (\"est\" in aaa):\n",
    "    print (aaa)\n",
    "    \n",
    "elif (\"er\" in aaa):\n",
    "    print(aaa.replace(\"er\" , \"est\"))\n",
    "    \n",
    "elif ( len(aaa) > 3):\n",
    "    print(aaa + \"er\")\n",
    "    \n",
    "else : \n",
    "    print (str)\n",
    "    \n",
    "#code ended"
   ]
  },
  {
   "cell_type": "markdown",
   "metadata": {},
   "source": [
    "### Task4\n",
    "\n",
    "Write a Python program that will ask the user to input a string (containing exactly one word). Then print code for each character in the String using the ord() function. Use any means necessary.\n",
    "\n",
    "To check if your program is working correctly or not, you can find a list of all correct values from the following website. Look at “Dec” and “Char” columns only, ignore other columns.\\\n",
    "link: http://www.asciitable.com/\n",
    "\n",
    "**Example 1:**\\\n",
    "Input: Programming\\\n",
    "Output:\\\n",
    "P : 80\\\n",
    "r : 114\\\n",
    "o : 111\\\n",
    "g : 103\\\n",
    "r : 114\\\n",
    "a : 97\\\n",
    "m : 109\\\n",
    "m : 109\\\n",
    "i : 105\\\n",
    "n : 110\\\n",
    "g : 103\n",
    "\n",
    "**Example 2:**\\\n",
    "Input: hunger\\\n",
    "Output:\\\n",
    "h : 104\\\n",
    "u : 117\\\n",
    "n : 110\\\n",
    "g : 103\\\n",
    "e : 101\\\n",
    "r : 114 "
   ]
  },
  {
   "cell_type": "code",
   "execution_count": 94,
   "metadata": {},
   "outputs": [
    {
     "name": "stdout",
     "output_type": "stream",
     "text": [
      " word a : hunger\n",
      "h : 104\n",
      "u : 117\n",
      "n : 110\n",
      "g : 103\n",
      "e : 101\n",
      "r : 114\n"
     ]
    }
   ],
   "source": [
    "#Todo\n",
    "#user theke input nibo.\n",
    "a= input (\" word a : \")\n",
    "\n",
    "#word er jonno code print korbo.\n",
    "for i in range(len(a)):\n",
    "    print(a[i] , \":\", ord(a[i]))\n",
    "#code ended."
   ]
  },
  {
   "cell_type": "markdown",
   "metadata": {},
   "source": [
    "### Task5\n",
    "\n",
    "Given a word as input in small letters, print the next alphabet in sequence for each alphabet found in the input.\n",
    "\n",
    "**Example1:**\\\n",
    "Input: abcd\\\n",
    "Output: bcde\n",
    "\n",
    "**Example2:**\\\n",
    "Input: the cow\\\n",
    "Output: uif!dpx\n",
    "\n",
    "**Example3: <font color='red'>[Must fulfil this criteria]</font>**\\\n",
    "Input: xyzabc\\\n",
    "Output: yzabcd\n",
    "\n",
    "*Hint: You need to use functions ord() and chr(). The ASCII value of ‘a’ is 97 and ‘z’ is 122.*\n"
   ]
  },
  {
   "cell_type": "code",
   "execution_count": 118,
   "metadata": {},
   "outputs": [
    {
     "name": "stdout",
     "output_type": "stream",
     "text": [
      "Enter a word in small letters : asdfgh\n",
      "bteghi"
     ]
    }
   ],
   "source": [
    "#Todo\n",
    "#user theke input nibo . \n",
    "a = input(\"Enter a word in small letters : \")\n",
    "\n",
    "# next alphabet print korbe.\n",
    "for i in range ( len(a)):\n",
    "    if (ord(a[i])==122):\n",
    "        print(chr(97) , end=\"\")\n",
    "    else :\n",
    "        code= ord(a[i]) + 1\n",
    "        word = chr(code)\n",
    "        print (word , end=\"\")\n",
    "#code ended"
   ]
  },
  {
   "cell_type": "markdown",
   "metadata": {},
   "source": [
    "### Task6\n",
    "Given a string, create a new string with all the consecutive duplicates removed. \n",
    "\n",
    "**Example:**\\\n",
    "Input:\\\n",
    "AAABBBBCDDBBECE\\\n",
    "Output:\\\n",
    "ABCDBECE\n",
    "\n",
    "*Hint: You need to make a new string to store your answer. Check whether the current character and the next character are the same, then add that character to the answer.*\n",
    "\n"
   ]
  },
  {
   "cell_type": "code",
   "execution_count": 146,
   "metadata": {},
   "outputs": [
    {
     "name": "stdout",
     "output_type": "stream",
     "text": [
      "Entere string : AAADDDFGGHHJUYGGGGHHHY\n",
      "ADFGHJUYGHY\n"
     ]
    }
   ],
   "source": [
    "#Todo\n",
    "aaa= input( \"Entere string : \")\n",
    "bbb=\"\" + aaa[0]\n",
    "\n",
    "for i in range(1 , len(aaa)):\n",
    "    character1 = aaa[i]\n",
    "    character2 = aaa[i-1]\n",
    "    if (character1 != character2):\n",
    "        bbb += aaa[i]\n",
    "\n",
    "print(bbb)\n",
    "#code ended"
   ]
  },
  {
   "cell_type": "markdown",
   "metadata": {},
   "source": [
    "### Task 7\n",
    "Write a Python program that reads 10 numbers from the user. After reading each number, print all the numbers that have been entered so far. \n",
    "\n",
    "**Example:**\\\n",
    "After the user enters 3, prints “So far in the list: [3]”\\\n",
    "After the user enters 5, prints “So far in the list: [3, 5]”\\\n",
    "After the user enters 34, prints “So far in the list: [3, 5, 34]”\n"
   ]
  },
  {
   "cell_type": "code",
   "execution_count": 83,
   "metadata": {},
   "outputs": [
    {
     "name": "stdout",
     "output_type": "stream",
     "text": [
      "input a num 3\n",
      "So far in the list: [3]\n",
      "input a num 5\n",
      "So far in the list: [3, 5]\n",
      "input a num 34\n",
      "So far in the list: [3, 5, 34]\n",
      "input a num 34\n",
      "So far in the list: [3, 5, 34, 34]\n",
      "input a num 23\n",
      "So far in the list: [3, 5, 34, 34, 23]\n",
      "input a num 3\n",
      "So far in the list: [3, 5, 34, 34, 23, 3]\n",
      "input a num 2\n",
      "So far in the list: [3, 5, 34, 34, 23, 3, 2]\n",
      "input a num 2\n",
      "So far in the list: [3, 5, 34, 34, 23, 3, 2, 2]\n",
      "input a num 2\n",
      "So far in the list: [3, 5, 34, 34, 23, 3, 2, 2, 2]\n",
      "input a num 2\n",
      "So far in the list: [3, 5, 34, 34, 23, 3, 2, 2, 2, 2]\n"
     ]
    }
   ],
   "source": [
    "#Todo\n",
    "#ekta empty list nibo abong ate 10 ta input append korbo. ar for loop diye question onijayi output er jonno code korbo.\n",
    "l=[]\n",
    "for i in range (10):\n",
    "    a= int(input (\"input a num \"))\n",
    "    l.append(a)\n",
    "    print(\"So far in the list:\",  l)\n",
    "#code ended."
   ]
  },
  {
   "cell_type": "markdown",
   "metadata": {},
   "source": [
    "## Task 8\n",
    "Assume, you have been given a list.\n",
    "\n",
    "a_list =  [10, 20, 24, 25, 26, 35, 70]\n",
    "\n",
    "Write a Python program that creates a new list excluding the first and last two elements of the given list and prints the new list. \n",
    "\n",
    "Output: [24, 25, 26]\n",
    "\n",
    "\n",
    "*Hint:You need to use list slicing.*"
   ]
  },
  {
   "cell_type": "code",
   "execution_count": 88,
   "metadata": {},
   "outputs": [
    {
     "name": "stdout",
     "output_type": "stream",
     "text": [
      "[24, 25, 26]\n"
     ]
    }
   ],
   "source": [
    "#Todo\n",
    "#given list\n",
    "a_list =  [10, 20, 24, 25, 26, 35, 70]\n",
    "\n",
    "# a_list k scicing kore new list nibo.\n",
    "new_list = a_list[2 : -2]\n",
    "\n",
    "#new list print korbo.\n",
    "print(new_list)\n",
    "\n",
    "#code ended"
   ]
  },
  {
   "cell_type": "markdown",
   "metadata": {},
   "source": [
    "### Task 9\n",
    "Assume, you have been given two lists. \n",
    "\n",
    "list_one = [1, 2, 3, 4, 5, 6, 7, 8, 9]\\\n",
    "list_two = [10, 11, 12, -13, -14, -15, -16]\n",
    "\n",
    "Write a Python program that creates a new list with all the even elements of both of the given lists and prints the new list.\n",
    "\n",
    "\n",
    "Output: [2, 4, 6, 8, 10, 12, -14, -16]\n",
    "\n",
    "*Hint: You need to create a third list to store the even elements of the given lists.*\n",
    "\n"
   ]
  },
  {
   "cell_type": "code",
   "execution_count": 93,
   "metadata": {},
   "outputs": [
    {
     "name": "stdout",
     "output_type": "stream",
     "text": [
      "[2, 4, 6, 8, 10, 12, -14, -16]\n"
     ]
    }
   ],
   "source": [
    "#Todo\n",
    "#given list \n",
    "list_one = [1, 2, 3, 4, 5, 6, 7, 8, 9]\n",
    "list_two = [10, 11, 12, -13, -14, -15, -16]\n",
    "\n",
    "#list_one o list_two k list3 te marge korbo.\n",
    "list3= list_one + list_two\n",
    "\n",
    "#new empty list niye oita te list3 theke even number golo append korbo.\n",
    "new_list =[]\n",
    "for i in list3 :\n",
    "    if (i%2==0):\n",
    "        new_list.append(i)\n",
    "        \n",
    "#new list ta print korbo.\n",
    "print(new_list)\n",
    "\n",
    "#code ended."
   ]
  },
  {
   "cell_type": "markdown",
   "metadata": {},
   "source": [
    "### Task 10\n",
    "\n",
    "Assume, you have been given two lists.\\\n",
    "list_one = [1, 2 , 2, 4, 5, 5, 7, 99, 200, 303, 70]\\\n",
    "list_two = [1, 1, 2, 3, 3, 3, 4, 5, 200, 500, -5]\n",
    "\n",
    "Write a Python program that creates a new list with all the unique elements of both the given lists. You make sure no duplicates are in the result list and finally print the result list.\n",
    "\n",
    "Output: \n",
    "[1, 2, 4, 5, 7, 99, 200, 303, 70, 3, 500, -5]\n",
    "\n",
    "*Hint:You need to create a third list to store the results. Use membership operators (in, not in) to make sure no duplicates are added.*\n",
    "\n"
   ]
  },
  {
   "cell_type": "code",
   "execution_count": 121,
   "metadata": {},
   "outputs": [
    {
     "name": "stdout",
     "output_type": "stream",
     "text": [
      "[1, 2, 4, 5, 7, 99, 200, 303, 70, 3, 500, -5]\n"
     ]
    }
   ],
   "source": [
    "#Todo\n",
    "#given list are :\n",
    "list_one = [1, 2 , 2, 4, 5, 5, 7, 99, 200, 303, 70]\n",
    "list_two = [1, 1, 2, 3, 3, 3, 4, 5, 200, 500, -5]\n",
    "\n",
    "#list_one o list_two k list3 te marge korbo.\n",
    "new_list = list_one+ list_two \n",
    "\n",
    "#unique_num a new_list theke value goloh 1 bar kore nibo.\n",
    "unique_num = []\n",
    "for i in new_list:\n",
    "    if i not in unique_num:\n",
    "        unique_num.append(i)\n",
    "print(unique_num)\n",
    "\n",
    "#code ended"
   ]
  },
  {
   "cell_type": "markdown",
   "metadata": {},
   "source": [
    "### Task 11\n",
    "\n",
    "Write a Python program that reads 5 numbers into a list and prints the largest number and its location on the list. <font color='red'>[You are not allowed to use the max() function here]</font>\n",
    "\n",
    "**Example:**\\\n",
    "Input: 7, 13, 2, 10, 6\\\n",
    "Output:\\\n",
    "“list: [7, 13, 2, 10, 6]”\\\n",
    "“Largest number 13 was found at location 1”.\n",
    "\n",
    "*Hint: Assume, the first input to be the largest value initially and the location of first input which is 0 to be the initial value of the largest value’s location.\n",
    "You need to be careful while printing the output. Depending on your code might need data conversion.*\n"
   ]
  },
  {
   "cell_type": "code",
   "execution_count": 142,
   "metadata": {},
   "outputs": [
    {
     "name": "stdout",
     "output_type": "stream",
     "text": [
      "Enter a num : 7\n",
      "Enter a num : 9\n",
      "Enter a num : 0\n",
      "Enter a num : 7\n",
      "Enter a num : 4\n",
      "\"list : [7, 9, 0, 7, 4] \"\n",
      "largest number is : 9  was found at location :  1\n"
     ]
    }
   ],
   "source": [
    "#Todo\n",
    "list1=[]\n",
    "for i in range (5):\n",
    "    num = int(input(\"Enter a num : \"))\n",
    "    list1.append(num)\n",
    "print (\"\\\"list :\" , list1 , \"\\\"\")\n",
    "\n",
    "index_max = 0\n",
    "\n",
    "for number in range (len(list1)):\n",
    "    if (list1[number] > list1[index_max]):\n",
    "        index_max = number\n",
    "print(\"largest number is :\", list1[index_max], \" was found at location : \" , index_max)\n",
    "\n",
    "#code ended"
   ]
  },
  {
   "cell_type": "markdown",
   "metadata": {},
   "source": [
    "### Task 12\n",
    "\n",
    "Write a Python program that reads 5 numbers into a list and prints the smallest and largest number and their location in the list. <font color='red'>[You are not allowed to use the max() and min() function here]</font>\n",
    "\n",
    "**Example:**\\\n",
    "If the user enters 7, 13, -5, 10, 6 then your program should print\\\n",
    "“list: [7, 13, -5, 10, 6]”\\\n",
    "“Smallest number -5 was found at location 2”.\\\n",
    "“Largest number 13 was found at location 1”.\n",
    "\n",
    "*Hint: Assume, the first input to be the largest value and the location of the first input which is 0 to be the initial value of the largest value’s location. Similarly, assume the first input to be the smallest value and the location of the first input which is 0 to be the initial value of the smallest value’s location.\n",
    "You need to be careful while printing the output. Depending on your code might need data conversion.*\n"
   ]
  },
  {
   "cell_type": "code",
   "execution_count": 141,
   "metadata": {},
   "outputs": [
    {
     "name": "stdout",
     "output_type": "stream",
     "text": [
      "Enter a num : 13\n",
      "Enter a num : 7\n",
      "Enter a num : -8\n",
      "Enter a num : 7\n",
      "Enter a num : 6\n",
      "\"list : [13, 7, -8, 7, 6] \"\n",
      "smallest number is : -8  was found at location :  2\n",
      "largest number is : 13  was found at location :  0\n"
     ]
    }
   ],
   "source": [
    "#Todo\n",
    "#Todo\n",
    "list1=[]\n",
    "for i in range (5):\n",
    "    num = int(input(\"Enter a num : \"))\n",
    "    list1.append(num)\n",
    "print (\"\\\"list :\" , list1 , \"\\\"\")\n",
    "\n",
    "maximum_index = 0\n",
    "minimum_index = 0\n",
    "\n",
    "for number in range (len(list1)):\n",
    "    if(list1[number] > list1[maximum_index]):\n",
    "        maximum_index = number\n",
    "    if (list1[number] < list1[minimum_index]):\n",
    "        minimum_index = number\n",
    "print(\"smallest number is :\", list1[minimum_index], \" was found at location : \" , minimum_index)\n",
    "print(\"largest number is :\", list1[maximum_index ], \" was found at location : \" , maximum_index )\n",
    "#code ended"
   ]
  }
 ],
 "metadata": {
  "kernelspec": {
   "display_name": "Python 3",
   "language": "python",
   "name": "python3"
  },
  "language_info": {
   "codemirror_mode": {
    "name": "ipython",
    "version": 3
   },
   "file_extension": ".py",
   "mimetype": "text/x-python",
   "name": "python",
   "nbconvert_exporter": "python",
   "pygments_lexer": "ipython3",
   "version": "3.7.6"
  }
 },
 "nbformat": 4,
 "nbformat_minor": 4
}
