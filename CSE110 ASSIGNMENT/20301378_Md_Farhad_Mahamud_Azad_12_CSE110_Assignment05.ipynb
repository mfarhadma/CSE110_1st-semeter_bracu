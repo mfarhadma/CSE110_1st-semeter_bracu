{
 "cells": [
  {
   "cell_type": "markdown",
   "metadata": {
    "colab_type": "text",
    "id": "mRHB9cBf5D7V"
   },
   "source": [
    "# CSE110 Assignment 5\n",
    "This assignment is to guide you to solve everything you have learned so far by implementing functions in Python. \n",
    "\n",
    "**<font color='red'>[MUST MAINTAIN VARIABLE NAMING CONVENTIONS FOR ALL THE TASKS]</font>**\n",
    "\n",
    "## Write the Python code of the following problems:\n"
   ]
  },
  {
   "cell_type": "markdown",
   "metadata": {
    "colab_type": "text",
    "id": "_uzpm0b85D7Z"
   },
   "source": [
    "### Task 1\n",
    "Write a function called **even_checker** that takes a number as an argument and prints whether the number is even or odd *inside the function*.\n",
    "\n",
    "**Example1:** \\\n",
    "**Function Call:**\\\n",
    "even_checker(5)\\\n",
    "**Output:**\\\n",
    "Odd!!\n",
    "\n",
    "=============================\n",
    "\n",
    "**Example2:** \\\n",
    "**Function Call:**\\\n",
    "even_checker(2)\\\n",
    "**Output:**\\\n",
    "Even!!\n",
    "\n"
   ]
  },
  {
   "cell_type": "code",
   "execution_count": 1,
   "metadata": {},
   "outputs": [
    {
     "name": "stdout",
     "output_type": "stream",
     "text": [
      "Enter a number : 6\n",
      "Even!!\n"
     ]
    }
   ],
   "source": [
    "# to do\n",
    "#funtion banabo\n",
    "def even_checker(num1):\n",
    "    \n",
    "    if num1%2== 0:\n",
    "        print('Even!!')\n",
    "        \n",
    "    else:\n",
    "        print('Odd!!')\n",
    "    \n",
    "#user input nibo.\n",
    "num1= int(input('Enter a number : '))\n",
    "\n",
    "#funtion call dibo\n",
    "even_checker(num1)\n",
    "\n",
    "#code ended"
   ]
  },
  {
   "cell_type": "markdown",
   "metadata": {
    "colab_type": "text",
    "id": "YFKgn6Yw5D7f"
   },
   "source": [
    "### Task 2\n",
    "Write a python function that takes the limit as an argument of the Fibonacci series and prints till that limit. \n",
    "\n",
    "**Function Call:**\\\n",
    "fibonacci(10)\\\n",
    "**Output:**\\\n",
    "0 1 1 2 3 5 8\\\n",
    "======================\\\n",
    "**Function Call:**\\\n",
    "fibonacci(5)\\\n",
    "**Output:**\\\n",
    "0 1 1 2 3 5 "
   ]
  },
  {
   "cell_type": "code",
   "execution_count": 47,
   "metadata": {
    "colab": {},
    "colab_type": "code",
    "id": "J4ab_IeA5D7g"
   },
   "outputs": [
    {
     "name": "stdout",
     "output_type": "stream",
     "text": [
      "Enter a limet : 10\n",
      "0 1 1 2 3 5 8 "
     ]
    }
   ],
   "source": [
    "# to do\n",
    "def fibonacci(num):\n",
    "    first_e = 0\n",
    "    scnd_e = 1\n",
    "    sum1= 1\n",
    "    print(first_e ,end=' ')\n",
    "    \n",
    "    for iii in range (num):\n",
    "        if num >= sum1:\n",
    "            print(sum1 , end=\" \")\n",
    "            sum1 = first_e + scnd_e\n",
    "            first_e = scnd_e\n",
    "            scnd_e = sum1\n",
    "            \n",
    "#user input nibo\n",
    "num= int(input(\"Enter a limet : \"))\n",
    "\n",
    "#fintion call dibo\n",
    "fibonacci(num)\n",
    "\n",
    "#code ended "
   ]
  },
  {
   "cell_type": "markdown",
   "metadata": {
    "colab_type": "text",
    "id": "rDY_xNcO5D7k"
   },
   "source": [
    "### Task 3\n",
    "Write a function called **foo_moo** that takes a number as an argument and **returns** the following statements according the below mention conditions. Then, finally prints the statement in the function call. \n",
    "\n",
    "* \tIf the number is divisible by 2, it should return \"Foo\".\n",
    "*   If the number is divisible by 3, it should return \"Moo\". \n",
    "*   If the number is divisible by both 2 and 3, it should return \"FooMoo\".\n",
    "*   Otherwise, it returns \"Boo\".\n",
    "\n",
    "**Example1:** \\\n",
    "**Function Call:**\\\n",
    "foo_moo(5)\\\n",
    "**Output:**\\\n",
    "Boo\n",
    "\n",
    "=================\n",
    "\n",
    "\n",
    "**Example2:** \\\n",
    "**Function Call:**\\\n",
    "foo_moo(4)\\\n",
    "**Output:**\\\n",
    "Foo\n",
    "\n",
    "=================\n",
    "\n",
    "\n",
    "**Example3:** \\\n",
    "**Function Call:**\\\n",
    "foo_moo(6)\\\n",
    "**Output:**\\\n",
    "FooMoo\n",
    "\n"
   ]
  },
  {
   "cell_type": "code",
   "execution_count": 40,
   "metadata": {
    "colab": {},
    "colab_type": "code",
    "id": "2roUcNrC5D7l"
   },
   "outputs": [
    {
     "name": "stdout",
     "output_type": "stream",
     "text": [
      "Enter a num : 6\n",
      "FooMoo\n"
     ]
    }
   ],
   "source": [
    "# to do\n",
    "#funtion banabo\n",
    "def foo_moo(num):\n",
    "    if (num%2==0 and num%3==0):\n",
    "        return'FooMoo'\n",
    "    elif num%2== 0:\n",
    "        return 'Poo'\n",
    "    elif num%3== 0:\n",
    "        return 'Moo'\n",
    "    else:\n",
    "        return 'Boo'\n",
    "    \n",
    "#user input nibo.   \n",
    "num = int(input('Enter a num : '))\n",
    "\n",
    "#funtion return korbo\n",
    "print(foo_moo(num))\n",
    "\n",
    "#code ended"
   ]
  },
  {
   "cell_type": "markdown",
   "metadata": {
    "colab_type": "text",
    "id": "nemw1U-i5D7s"
   },
   "source": [
    "### Task 4\n",
    "Write a python function that takes a string as an argument. Your task is to calculate the number of uppercase letters and lowercase letters and print them in the function. \n",
    "\n",
    "**Function Call:**\\\n",
    "function_name('The quick Sand Man')\\\n",
    "**Output:**\\\n",
    "No. of Uppercase characters : 3\\\n",
    "No. of Lowercase Characters: 12\\\n",
    "============================\\\n",
    "**Function Call:**\\\n",
    "function_name('HaRRy PotteR')\\\n",
    "**Output:**\\\n",
    "No. of Uppercase characters : 5\\\n",
    "No. of Lowercase Characters: 6\n"
   ]
  },
  {
   "cell_type": "code",
   "execution_count": 3,
   "metadata": {
    "colab": {},
    "colab_type": "code",
    "id": "4ZBb4Mcr5D7t"
   },
   "outputs": [
    {
     "name": "stdout",
     "output_type": "stream",
     "text": [
      "give string :ASDfggh\n",
      "No. of Uppercase characters:  3\n",
      "No. of Lowercase Characters:  4\n"
     ]
    }
   ],
   "source": [
    "# to do\n",
    "\n",
    "#user input nibo\n",
    "user_string = input(\"give string :\")\n",
    "\n",
    "#fantion banabo\n",
    "def i_str(user_string):\n",
    "    upc=0\n",
    "    lwc=0\n",
    "    for iii in user_string:\n",
    "        if (ord(iii)>=97 and ord(iii)<=122) :\n",
    "            lwc+=1\n",
    "            \n",
    "        elif (ord(iii)>=65 and ord(iii)<=90) :\n",
    "            upc+=1\n",
    "    print(\"No. of Uppercase characters: \" ,upc )\n",
    "    print('No. of Lowercase Characters: ', lwc)\n",
    "\n",
    "#funtion call dibo\n",
    "i_str(user_string)\n",
    "\n",
    "#code ended"
   ]
  },
  {
   "cell_type": "markdown",
   "metadata": {
    "colab_type": "text",
    "id": "e9bojIHe5D7w"
   },
   "source": [
    "## Task 5\n",
    "Write a function called **calculate_tax** that takes 3 arguments: your age, salary, and current job designation.\n",
    "\n",
    "\n",
    "Your first task is to take these arguments as user input and pass these values to the function.\n",
    "\n",
    "Your second task is to implement the function and calculate the tax as the following conditions:\n",
    "*  **NO TAX IF YOU ARE LESS THAN 18 YEARS OLD.**\n",
    "*  **NO TAX IF YOU ARE THE PRESIDENT OF THE COMPANY** \n",
    "*  No tax if you get paid less than 10,000\n",
    "*  5% tax if you get paid between 10K and 20K\n",
    "*  10% tax if you get paid more than 20K\n",
    "\n",
    "\n",
    "Finally return this tax value. Then print the returned value in the function call.\n",
    "\n",
    "**Example1:** \\\n",
    "**Input:**\\\n",
    "16\\\n",
    "20000\\\n",
    "Student\\\n",
    "**Function Call:**\\\n",
    "calculate_tax(16, 20000, 'Student')\\\n",
    "**Output:**\\\n",
    "0\n",
    "\n",
    "===================================\n",
    "\n",
    "**Example2:** \\\n",
    "**Input:**\\\n",
    "20\\\n",
    "18000\\\n",
    "assistant manager\\\n",
    "**Function Call:**\\\n",
    "calculate_tax(20, 18000, 'assistant manager')\\\n",
    "**Output:**\\\n",
    "900.0\n",
    "\n",
    "\n",
    "===================================\n",
    "\n",
    "**Example3:** \\\n",
    "**Input:**\\\n",
    "20\\\n",
    "22000\\\n",
    "assistant manager\\\n",
    "**Function Call:**\\\n",
    "calculate_tax(20, 22000, 'Assistant manager')\\\n",
    "**Output:**\\\n",
    "2200.0\n",
    "\n",
    "===================================\n",
    "\n",
    "\n",
    "**Example4:** \\\n",
    "**Input:**\\\n",
    "20\\\n",
    "122000\\\n",
    "president\\\n",
    "**Function Call:**\\\n",
    "calculate_tax(20, 122000, 'president')\\\n",
    "**Output:**\\\n",
    "0\n",
    " \n",
    "\n",
    "**Hints:**\\\n",
    "Here the job designation is a string, so it can be written in both uppercase and lower cases. So, you need to check the value ignoring the case.\n"
   ]
  },
  {
   "cell_type": "code",
   "execution_count": 44,
   "metadata": {
    "colab": {},
    "colab_type": "code",
    "id": "M4oo-FKQ5D7x"
   },
   "outputs": [
    {
     "name": "stdout",
     "output_type": "stream",
     "text": [
      "Enter your age : 27\n",
      "Enter your selery : 37447474\n",
      "Enter your designation : sfghjk\n",
      "3744747.4\n"
     ]
    }
   ],
   "source": [
    "# to do\n",
    "\n",
    "#funtion banabo\n",
    "def  calculate_tax( age , sel , pos ):\n",
    "    tex=0\n",
    "    \n",
    "    if ((age<18) or pos.lower() == \"president\" or sel < 10000):\n",
    "        return \"0\"\n",
    "    \n",
    "    elif(sel>= 10000 and sel <=20000):\n",
    "        tex = (sel*5)/100\n",
    "        return tex\n",
    "    \n",
    "    else:\n",
    "        tex =(sel*10)/100\n",
    "        \n",
    "        return tex\n",
    "    \n",
    "#user input nibo\n",
    "age= int(input('Enter your age : '))\n",
    "sel = int(input('Enter your selery : '))\n",
    "pos = input('Enter your designation : ')\n",
    "\n",
    "#funtion return korbo\n",
    "print(calculate_tax( age , sel , pos ))\n",
    "\n",
    "#code ended"
   ]
  },
  {
   "cell_type": "markdown",
   "metadata": {
    "colab_type": "text",
    "id": "VXLQHyLp5D71"
   },
   "source": [
    "### Task 6\n",
    "Write a function which will take 1 argument, number of days.\n",
    "\n",
    "Your first task is to take the number of days as user input and pass the value to the function.\n",
    " \n",
    "Your second task is to implement the function and calculate the total number of years, number of months, and the remaining number of days as output. No need to return any value, print inside the function. \n",
    "\n",
    "**Note:** Assume, each year to be 365 days and month to be 30 days.\n",
    "\n",
    "**Hint:** Divide and mod the main input to get the desired output.\n",
    "\n",
    "**Input:**\\\n",
    "4330\\\n",
    "**Function Call:**\\\n",
    "function_name(4330)\\\n",
    "**Output:**\\\n",
    "11 years, 10 months and 15 days\n",
    "\n",
    "================================\n",
    "\n",
    "**Input:**\\\n",
    "2250\\\n",
    "**Function Call:**\\\n",
    "function_name(2250)\\\n",
    "**Output:**\\\n",
    "6 years, 2 months and 0 days\n",
    "\n",
    "\n",
    "**Hints:** \\\n",
    "This task’s calculation is similar to Assignment-1’s seconds to hours, minutes conversion."
   ]
  },
  {
   "cell_type": "code",
   "execution_count": 43,
   "metadata": {
    "colab": {},
    "colab_type": "code",
    "id": "gkE9d9gs5D72"
   },
   "outputs": [
    {
     "name": "stdout",
     "output_type": "stream",
     "text": [
      "enter a number of value : 5\n",
      "0 years , 0 months and 5 days\n"
     ]
    }
   ],
   "source": [
    "# todo\n",
    "#user input ibo\n",
    "user_input = int(input(\"enter a number of value : \"))\n",
    "\n",
    "#funtion banabo\n",
    "def fma(days):\n",
    "    year= days // 365\n",
    "    re_day= days%365\n",
    "    month= re_day // 30\n",
    "    day= re_day % 30\n",
    "    print(year,'years' , ',',month,'months', 'and' , day,'days')\n",
    "\n",
    "#funtion call dibo\n",
    "fma(user_input)\n",
    "\n",
    "#code ended"
   ]
  },
  {
   "cell_type": "markdown",
   "metadata": {
    "colab_type": "text",
    "id": "SMPiTBn-5D78"
   },
   "source": [
    "### Task 7\n",
    "Write a function called **splitting_money** that takes an “amount” of money as a argument.\n",
    "\n",
    "Your first task is to take the “amount” of money as user input and pass the value to the function paramater.\n",
    " \n",
    "Your second task is to implement the function and calculate how that money can be split into 500, 100, 50, 20, 10, 5, 2, and 1 taka notes.\n",
    "\n",
    "Then print the returned value in the function call.\n",
    "\n",
    "**Example1:** \\\n",
    "If the money is 1234, then the function should return \n",
    "\n",
    "\"500 Taka: 2 note(s) \\\n",
    "100 Taka: 2 note(s) \\\n",
    "20 Taka: 1 note(s) \\\n",
    "10 Taka: 1 note(s) \\\n",
    "2 Taka: 2 note(s)\"\n",
    "\n",
    "**Example2:** \\\n",
    "If the money is 151, then the function should return\n",
    "\n",
    "\"100 Taka: 1 note(s)\\\n",
    "50 Taka: 1 note(s)\\\n",
    "1 Taka: 1 note(s)\"\n",
    "\n",
    "\n",
    "**Hints:** \\\n",
    "This task’s calculation is similar to Assignment-1’s seconds to hours, minutes conversion. To return the result containing multiple strings, you need to store it in a variable and return it at the end of the function.\n"
   ]
  },
  {
   "cell_type": "code",
   "execution_count": 42,
   "metadata": {},
   "outputs": [
    {
     "name": "stdout",
     "output_type": "stream",
     "text": [
      "Enter a Number : 689\n",
      "500 Taka :  1  note(s)\n",
      "100 Taka :  1  note(s)\n",
      "50 Taka :  1  note(s)\n",
      "20 Taka :  1  note(s)\n",
      "10 Taka :  1  note(s)\n",
      "5 Taka :  1  note(s)\n",
      "2 Taka :  2  note(s)\n",
      "\n"
     ]
    }
   ],
   "source": [
    "#to do\n",
    "\n",
    "#funtion banabo\n",
    "def splitting_money(taka):\n",
    "    info=\"\"\n",
    "    n500 = taka// 500\n",
    "    ext= taka % 500\n",
    "    \n",
    "    n100 =ext//100\n",
    "    ext2= ext%100\n",
    "    \n",
    "    n50 = ext2//50\n",
    "    ext3= ext2%50\n",
    "    \n",
    "    n20= ext3//20\n",
    "    ext4= ext3% 20\n",
    "    \n",
    "    n10 = ext4//10\n",
    "    ext5= ext4%10\n",
    "    \n",
    "    n5= ext5//5\n",
    "    ext6=ext5%5\n",
    "    \n",
    "    n2=  ext6//2\n",
    "    \n",
    "    n1= ext6%2\n",
    "    \n",
    "    #ekta khali string niye ata te sobgolo concate korbo , {}.format bebohar kore. \n",
    "    #jehetu ektar beshi value return kora jai nha.\n",
    "    info=\"\"\n",
    "    \n",
    "    if n500 !=0:\n",
    "        info=info+\"500 Taka :  {}  note(s)\".format(n500)+\"\\n\"\n",
    "        \n",
    "    if n100 != 0 :\n",
    "        info=info+\"100 Taka :  {}  note(s)\".format(n100)+\"\\n\"\n",
    "        \n",
    "    if n50 !=0:\n",
    "        info=info+\"50 Taka :  {}  note(s)\".format(n50)+\"\\n\"\n",
    "        \n",
    "    if n20 != 0 :\n",
    "        info=info+\"20 Taka :  {}  note(s)\".format(n20)+\"\\n\"\n",
    "        \n",
    "    if n10 != 0 :\n",
    "        info=info+\"10 Taka :  {}  note(s)\".format(n10)+\"\\n\"\n",
    "        \n",
    "    if n5 !=0:\n",
    "        info=info+\"5 Taka :  {}  note(s)\".format(n5)+\"\\n\"\n",
    "        \n",
    "    if n2 != 0 :\n",
    "        info=info+\"2 Taka :  {}  note(s)\".format(n2)+\"\\n\"\n",
    "        \n",
    "    if n1 != 0 :\n",
    "        info=info+\"1 Taka :  {}  note(s)\".format(n1)+\"\\n\"\n",
    "        \n",
    "    return info\n",
    "\n",
    "#user input nibo.\n",
    "taka= int(input(\"Enter a Number : \"))\n",
    "\n",
    "#funtion return korbo\n",
    "print(splitting_money(taka))\n",
    "\n",
    "#code ended"
   ]
  },
  {
   "cell_type": "markdown",
   "metadata": {
    "colab_type": "text",
    "id": "8-vvES0i5D8B"
   },
   "source": [
    "### Task 8\n",
    "Write a function called **show_palindrome** that takes a number as an argument and then returns a palindrome string. Finally, prints the returned value in the function call.\n",
    "\n",
    "**Example1:** \\\n",
    "**Function Call:**\\\n",
    "show_palindrome(5)\\\n",
    "**Output:**\\\n",
    "123454321\n",
    "\n",
    "===================\n",
    "\n",
    "**Example2:** \\\n",
    "**Function Call:**\\\n",
    "show_palindrome(3)\\\n",
    "**Output:**\\\n",
    "12321\n"
   ]
  },
  {
   "cell_type": "code",
   "execution_count": 40,
   "metadata": {
    "colab": {},
    "colab_type": "code",
    "id": "QN-Iu8sz5D8C"
   },
   "outputs": [
    {
     "name": "stdout",
     "output_type": "stream",
     "text": [
      "Enter a Number : 9\n",
      "12345678987654321\n"
     ]
    }
   ],
   "source": [
    "# to do\n",
    "#funtion banabo\n",
    "def show_palindrome(num):\n",
    "    \n",
    "    estr=\"\"\n",
    "    for count in range(1 , num+1):\n",
    "        estr= estr+'{}'.format(count)\n",
    "        \n",
    "    for count2 in range( num-1,0,-1):\n",
    "        estr= estr+'{}'.format(count2)\n",
    "        \n",
    "    return estr\n",
    "    \n",
    "#user input nibo\n",
    "num= int(input(\"Enter a Number : \"))\n",
    "\n",
    "#funtion return korbo\n",
    "print(show_palindrome(num))\n",
    "\n",
    "#code ended"
   ]
  },
  {
   "cell_type": "markdown",
   "metadata": {
    "colab_type": "text",
    "id": "V_PVNpx45D8F"
   },
   "source": [
    "### Task 9\n",
    "Write a function called **show_palindromic_triangle** that takes a number as a argument and prints a Palindromic Triangle in the function. \n",
    "\n",
    "\n",
    "**Example1:** \\\n",
    "**Function Call:**\\\n",
    "show_palindromic_triangle(5)\\\n",
    "**Output:**\n",
    "\n",
    "&emsp; &emsp; &emsp; &emsp; 1\\\n",
    "&emsp; &emsp; &emsp; 1 &nbsp; 2 &nbsp; 1 \\\n",
    "&emsp; &emsp; 1 &nbsp; 2 &nbsp; 3 &nbsp; 2 &nbsp; 1 \\\n",
    "&emsp; 1 &nbsp; 2 &nbsp; 3 &nbsp; 4 &nbsp; 3 &nbsp; 2 &nbsp; 1 \\\n",
    "1 &nbsp; 2 &nbsp; 3 &nbsp; 4 &nbsp; 5 &nbsp; 4 &nbsp; 3 &nbsp; 2 &nbsp; 1\n",
    "\n",
    "=============================================================\n",
    "\n",
    "\n",
    "**Example1:** \\\n",
    "**Function Call:**\\\n",
    "show_palindromic_triangle(3)\\\n",
    "**Output:**\n",
    "\n",
    "&emsp; &emsp; 1 \\\n",
    "&emsp; 1 &nbsp; 2 &nbsp; 1 \\\n",
    "1 &nbsp; 2 &nbsp; 3 &nbsp; 2 &nbsp; 1\n",
    "\n",
    "\n",
    "**Hints:** \\\n",
    "Need to use both print() and print( , end = \" \") functions"
   ]
  },
  {
   "cell_type": "code",
   "execution_count": 34,
   "metadata": {
    "colab": {},
    "colab_type": "code",
    "id": "fUu0BrHz5D8G"
   },
   "outputs": [
    {
     "name": "stdout",
     "output_type": "stream",
     "text": [
      "Enter a num : 6\n",
      "      1\n",
      "     121\n",
      "    12321\n",
      "   1234321\n",
      "  123454321\n",
      " 12345654321\n"
     ]
    }
   ],
   "source": [
    "# to do\n",
    "#funtion banabo\n",
    "def show_palindromic_triangle(num):\n",
    "    \n",
    "    for line in range(num):\n",
    "        \n",
    "        for spa in range(line , num):\n",
    "            print(' ' , end=\"\")\n",
    "            \n",
    "        for acc in range(1,line+2):\n",
    "            print(acc , end=\"\")\n",
    "            \n",
    "        for dec in range(line,0,-1):\n",
    "            print(dec , end=\"\")\n",
    "            \n",
    "        print()\n",
    "        \n",
    "#user input nibo\n",
    "num= int(input(\"Enter a num : \"))\n",
    "\n",
    "#funtion call korbo.\n",
    "show_palindromic_triangle(num)\n",
    "\n",
    "#code ended"
   ]
  },
  {
   "cell_type": "markdown",
   "metadata": {
    "colab_type": "text",
    "id": "iLTMEWXg5D8M"
   },
   "source": [
    "### Task 10\n",
    "Write a function called **area_circumference_generator** that takes a radius of a circle as a  function parameter and calculates its circumference and area. Then returns these two results as a **tuple** and prints the results using tuple unpacking in the function call accorrding to the given format. <font color='red'>[Must use tuple packing & unpacking] </font> \n",
    "\n",
    "**Example1:** \\\n",
    "**Function Call:**\\\n",
    "area_circumference_generator(1)\\\n",
    "**Output:**\\\n",
    "(3.141592653589793, 6.283185307179586)\\\n",
    "Area of the circle is 3.141592653589793 and circumference is 6.283185307179586\n",
    "\n",
    "====================================\n",
    "\n",
    "**Example2:** \\\n",
    "**Function Call:**\\\n",
    "area_circumference_generator(1.5)\\\n",
    "**Output:**\\\n",
    "(7.0685834705770345, 9.42477796076938)\\\n",
    "Area of the circle is 7.0685834705770345 and circumference is 9.42477796076938\n",
    "\n",
    "====================================\n",
    "\n",
    "\n",
    "**Example3:** \\\n",
    "**Function Call:**\\\n",
    "area_circumference_generator(2.5)\\\n",
    "**Output:**\\\n",
    "(19.634954084936208, 15.707963267948966)\\\n",
    "Area of the circle is 19.634954084936208 and circumference is 15.707963267948966\n"
   ]
  },
  {
   "cell_type": "code",
   "execution_count": 30,
   "metadata": {
    "colab": {},
    "colab_type": "code",
    "id": "k8SLTHf35D8N"
   },
   "outputs": [
    {
     "name": "stdout",
     "output_type": "stream",
     "text": [
      "Enter redious : 1.5\n",
      "(7.0685834705770345, 9.42477796076938)\n",
      "Area of the circle is 7.0685834705770345  and circumference is 9.42477796076938\n"
     ]
    }
   ],
   "source": [
    "# to do\n",
    "#pi er man nithe import math nibo\n",
    "import math\n",
    "\n",
    "#user theke redious input nibo\n",
    "red = float(input('Enter redious : '))\n",
    "\n",
    "#funtion banabo\n",
    "def area_circumference_generator(red):\n",
    "    cir = 2*math.pi*red\n",
    "    are = math.pi* red**2\n",
    "    tup = are , cir\n",
    "    return tup\n",
    "\n",
    "#return korbo \n",
    "print(area_circumference_generator(red))\n",
    "\n",
    "#unpacking korbo\n",
    "area , circumference = area_circumference_generator(red)\n",
    "\n",
    "#print korbo\n",
    "print('Area of the circle is',area,' and circumference is' ,circumference)\n",
    "\n",
    "#code ended"
   ]
  },
  {
   "cell_type": "markdown",
   "metadata": {
    "colab_type": "text",
    "id": "NpgEU6ZI5D8S"
   },
   "source": [
    "##### Task 11\n",
    "Write a function called **make_square** that takes a tuple in the parameter as a range of numbers (starting point and ending point (included)). The function should **return a dictionary** with the numbers as keys and its squares as values.\n",
    "\n",
    "**Example1:** \\\n",
    "**Function Call:**\\\n",
    "make_square((1,3))\\\n",
    "**Output:**\\\n",
    "{1: 1, 2: 4, 3: 9}\n",
    "\n",
    "====================================\n",
    "\n",
    "**Example2:** \\\n",
    "**Function Call:**\\\n",
    "make_square((5,9))\\\n",
    "**Output:**\\\n",
    "{5: 25, 6: 36, 7: 49, 8: 64, 9: 81}\n",
    "\n",
    "\n",
    "\n",
    "**Hints:** \\\n",
    "You need to declare a dictionary to store the result. You should use the range function to run the “for loop”.\n"
   ]
  },
  {
   "cell_type": "code",
   "execution_count": 21,
   "metadata": {
    "colab": {},
    "colab_type": "code",
    "id": "-KGD8b0F5D8T"
   },
   "outputs": [
    {
     "name": "stdout",
     "output_type": "stream",
     "text": [
      "Enter a starting number : 4\n",
      "Enter a ending number : 8\n",
      "{4: 16, 5: 25, 6: 36, 7: 49, 8: 64}\n"
     ]
    }
   ],
   "source": [
    "# to do\n",
    "#funtion banabo\n",
    "def  make_square(tup):\n",
    "    dict1={}\n",
    "    for i in range(x , y+1):\n",
    "        dict1[i]= i*i\n",
    "    return (dict1)\n",
    "\n",
    "#user input nibo .\n",
    "x= int(input('Enter a starting number : '))\n",
    "y= int(input('Enter a ending number : '))\n",
    "tup=(x,y)\n",
    "\n",
    "#funtion return korbo.\n",
    "print(make_square(tup))\n",
    "\n",
    "#code ended"
   ]
  },
  {
   "cell_type": "markdown",
   "metadata": {
    "colab_type": "text",
    "id": "ZSdXyrvP5D8X"
   },
   "source": [
    "### Task 12\n",
    "Write a function called **remove_odd** that takes a list of numbers that have both even and odd numbers mixed. \\\n",
    "Your function should remove all the odd numbers and **return a compact list** which only contains the even numbers. \n",
    "\n",
    "**Example1:** \\\n",
    "**Function Call:**\\\n",
    "remove_odd ([21, 33, 44, 66, 11, 1, 88, 45, 10, 9])\\\n",
    "**Output:**\\\n",
    "[44, 66, 88, 10]\n",
    "\n",
    "====================================\n",
    "\n",
    "**Example2:** \\\n",
    "**Function Call:**\\\n",
    "remove_odd ([11,2,3,4,5,2,0,5,3])\\\n",
    "**Output:**\\\n",
    "[2, 4, 2, 0]\n",
    "\n"
   ]
  },
  {
   "cell_type": "code",
   "execution_count": 35,
   "metadata": {
    "colab": {},
    "colab_type": "code",
    "id": "7gfZ__Nx5D8X"
   },
   "outputs": [
    {
     "name": "stdout",
     "output_type": "stream",
     "text": [
      "Enter how many input will be there in list : 2\n",
      "Enter a num : 3\n",
      "Enter a num : 4\n",
      "[4]\n"
     ]
    }
   ],
   "source": [
    "# to do\n",
    "#funtion banabo\n",
    "def remove_odd(list1):\n",
    "    list2= []\n",
    "    for i in list1:\n",
    "        if i%2 == 0:\n",
    "            list2.append(i)\n",
    "    return list2\n",
    "\n",
    "\n",
    "#list ta banabo\n",
    "inpu= int(input('Enter how many input will be there in list : '))\n",
    "\n",
    "list1 = []\n",
    "for i in range(inpu):\n",
    "    inpu2= int(input('Enter a num : '))\n",
    "    list1.append(inpu2)\n",
    "    \n",
    "#funtion return korbo\n",
    "print(remove_odd(list1))\n",
    "\n",
    "#code ended"
   ]
  },
  {
   "cell_type": "markdown",
   "metadata": {
    "colab_type": "text",
    "id": "J7xaBB5i5D8c"
   },
   "source": [
    "### Task 13\n",
    "Write a function called **rem_duplicate** that takes a tuple in the parameter and return a tuple removing all the duplicate values. Then print the returned tuple in the function call.\n",
    "\n",
    "**Example1:** \\\n",
    "**Function Call:**\\\n",
    "rem_duplicate((1,1,1,2,3,4,5,6,6,6,6,4,0,0,0))\\\n",
    "**Output:**\\\n",
    "(1, 2, 3, 4, 5, 6, 0)\n",
    "\n",
    "====================================\n",
    "\n",
    "**Example2:** \\\n",
    "**Function Call:**\\\n",
    "rem_duplicate((\"Hi\", 1, 2, 3, 3, \"Hi\",'a', 'a', [1,2]))\\\n",
    "**Output:**\\\n",
    "('Hi', 1, 2, 3, 'a', [1, 2])\n",
    "\n",
    "\n",
    "**Hints:** \\\n",
    "Unlike lists, tuples are immutable so, the tuple taken as an argument cannot be modified. But list can be modified and lastly for returning the result use type conversion. You need to use membership operators (in, not in) for preventing adding any duplicates values.\n"
   ]
  },
  {
   "cell_type": "code",
   "execution_count": 4,
   "metadata": {
    "colab": {},
    "colab_type": "code",
    "id": "mniLLbJY5D8d"
   },
   "outputs": [
    {
     "name": "stdout",
     "output_type": "stream",
     "text": [
      "Enter a How many value do you take in tuple : 3\n",
      "Enter a value : 2\n",
      "Enter a value : 3\n",
      "Enter a value : 4\n",
      "(2, 3, 4)\n"
     ]
    }
   ],
   "source": [
    "# to do\n",
    "#list banabo and ata k tuple ropantor korbo\n",
    "lis =[]\n",
    "num = int(input('Enter a How many value do you take in tuple : '))\n",
    "for iii in range(num):\n",
    "    val = int(input(\"Enter a value : \"))\n",
    "    lis.append(val)\n",
    "tup= tuple(lis)\n",
    "\n",
    "#funtion banabo\n",
    "def rem_duplicate(tup):\n",
    "    new_tup =[]\n",
    "    \n",
    "    for i in tup:\n",
    "        if i not in new_tup:\n",
    "            new_tup.append(i)\n",
    "            \n",
    "    new_tup= tuple(new_tup)\n",
    "    \n",
    "    return(new_tup)\n",
    "\n",
    "#funtion call dibo\n",
    "print(rem_duplicate(tup))\n",
    "\n",
    "#code ended"
   ]
  },
  {
   "cell_type": "markdown",
   "metadata": {
    "colab_type": "text",
    "id": "yJxb2yrb5D8h"
   },
   "source": [
    "##### Task 14\n",
    "Write a python function that takes a list as an argument. Your task is to create a new list where **each element can be present at max 2 times**. Inside the function, print the number of elements removed from the given list. Finally, return the new list and print the result.\n",
    "\n",
    "**Hint:** Use list_name.count(element) to count the total number of times an element is in a list. list_name is your new list for this problem.\n",
    "\n",
    "**Function Call:**\\\n",
    "function_name([1, 2, 3, 3, 3, 3, 4, 5, 8, 8])\\\n",
    "**Output:**\\\n",
    "Removed: 2\\\n",
    "[1, 2, 3, 3, 4, 5, 8, 8]\\\n",
    "================================\\\n",
    "**Function Call:**\\\n",
    "function_name([10, 10, 15, 15, 20])\\\n",
    "**Output:**\\\n",
    "Removed: 0\\\n",
    "[10, 10, 15, 15, 20]"
   ]
  },
  {
   "cell_type": "code",
   "execution_count": 208,
   "metadata": {
    "colab": {},
    "colab_type": "code",
    "id": "URBhYdgt5D8h"
   },
   "outputs": [
    {
     "name": "stdout",
     "output_type": "stream",
     "text": [
      "Enter a How many value do you take in list : 10\n",
      "Enter a value : 10\n",
      "Enter a value : 15\n",
      "Enter a value : 15\n",
      "Enter a value : 20\n",
      "Enter a value : 10\n",
      "Enter a value : 70\n",
      "Enter a value : 7\n",
      "Enter a value : 70\n",
      "Enter a value : 7\n",
      "Enter a value : 89\n",
      "[10, 15, 15, 20, 10, 70, 7, 70, 7, 89]\n",
      "Romoved 0\n",
      "[10, 15, 15, 20, 10, 70, 7, 70, 7, 89]\n"
     ]
    }
   ],
   "source": [
    "# todo\n",
    "#list input banabo\n",
    "list1 =[]\n",
    "num = int(input('Enter a How many value do you take in list : '))\n",
    "for i in range(num):\n",
    "    val = int(input(\"Enter a value : \"))\n",
    "    list1.append(val)\n",
    "print(list1)\n",
    "\n",
    "#funtion banabo.\n",
    "def fma(list1):\n",
    "    count=0\n",
    "    new_list = []\n",
    "    for i in list1:\n",
    "        if new_list.count(i)<2 :\n",
    "            new_list.append(i)\n",
    "        else:\n",
    "            count+=1\n",
    "    print('Romoved' ,count)\n",
    "    print(new_list)\n",
    "    \n",
    "#funtion call dibo\n",
    "fma(list1)\n",
    "\n",
    "#code ended"
   ]
  },
  {
   "cell_type": "markdown",
   "metadata": {
    "colab_type": "text",
    "id": "oZRJfnm85D8m"
   },
   "source": [
    "### Task 15\n",
    "Write a function which will take 4 arguments. They are:\n",
    "- starting value(inclusive)\n",
    "- ending value(exclusive)\n",
    "- first divisor\n",
    "- second divisor\n",
    "\n",
    "Your first task is to take these arguments as user input and pass these values to the function.\n",
    "\n",
    "Your second task is to implement the function and find all the numbers that are divisible by the <u>first divisor or second divisor but not both</u> from the starting value(inclusive) and ending value(exclusive). Add all the numbers that are divisible and finally return this value. Print the returned value in the function call.\n",
    "\n",
    "**Input:**\\\n",
    "10\\\n",
    "40\\\n",
    "4\\\n",
    "7\\\n",
    "**Function Call:**\\\n",
    "function_name(10, 40, 4, 7)\\\n",
    "**Output:**\\\n",
    "210\\\n",
    "================================\\\n",
    "**Input:**\\\n",
    "5\\\n",
    "100\\\n",
    "3\\\n",
    "4\\\n",
    "**Function Call:**\\\n",
    "function_name(5, 100, 3, 4)\\\n",
    "**Output:**\\\n",
    "2012\n",
    "\n",
    "\n"
   ]
  },
  {
   "cell_type": "code",
   "execution_count": 18,
   "metadata": {
    "colab": {},
    "colab_type": "code",
    "id": "WStErxZP5D8m",
    "scrolled": true
   },
   "outputs": [
    {
     "name": "stdout",
     "output_type": "stream",
     "text": [
      "Enter starting value : 5\n",
      "Enter endding vlu : 100\n",
      "Enter 1st number  : 3\n",
      "Enter 2nd number : 4\n",
      "2012\n"
     ]
    }
   ],
   "source": [
    "# to do\n",
    "#funtion ta banabo.\n",
    "def big( strt , end , fst_d , snd_d):\n",
    "    count=0\n",
    "    for i in range(strt , end):\n",
    "        if ((i%fst_d==0) or (i%snd_d==0)) and (i % (fst_d*snd_d)!=0) :\n",
    "            count= count + i\n",
    "    return count\n",
    "\n",
    "#user input gooh modde \n",
    "strt = int(input('Enter starting value : '))\n",
    "end = int(input('Enter endding vlu : '))\n",
    "fst_d = int(input('Enter 1st number  : '))\n",
    "snd_d = int(input('Enter 2nd number : '))\n",
    "\n",
    "#funtion ta return korbs\n",
    "print(big( strt , end , fst_d , snd_d))\n",
    "\n",
    "#code ended"
   ]
  },
  {
   "cell_type": "markdown",
   "metadata": {
    "colab_type": "text",
    "id": "vqET24dk5D8u"
   },
   "source": [
    "# Task 16\n",
    "Write a python function that will perform the basic calculation (addition, subtraction, multiplication and division) based on 3 arguments. They are:\n",
    "- Operator ('+', '-', '/', '*')\n",
    "- First Operand (any number)\n",
    "- Second Operand (any number)\n",
    "\n",
    "Your first task is to take these arguments as user input and pass the values to the function parameters.\n",
    "\n",
    "Your second task is to write a function and performs the calculation based on the given operator. Then, finally return the result in the function call and print the result.\n",
    "\n",
    "**Input:**\\\n",
    "\"+\"\\\n",
    "10\\\n",
    "20\\\n",
    "**Function Call:**\\\n",
    "function_name(\"+\", 10, 20)\\\n",
    "**Output:**\\\n",
    "30\n",
    "\n",
    "================================\n",
    "\n",
    "**Input:**\\\n",
    "\"*\"\\\n",
    "5.5\\\n",
    "2.5\\\n",
    "**Function Call:**\\\n",
    "function_name(\"*\", 5.5, 2.5)\\\n",
    "**Output:**\\\n",
    "13.75\n"
   ]
  },
  {
   "cell_type": "code",
   "execution_count": 14,
   "metadata": {
    "colab": {},
    "colab_type": "code",
    "id": "sh7YQRv_5D8v"
   },
   "outputs": [
    {
     "name": "stdout",
     "output_type": "stream",
     "text": [
      "give a sign : +\n",
      "enter a num : 3\n",
      "Enter a num : 6\n",
      "9\n"
     ]
    }
   ],
   "source": [
    "# to do\n",
    "#user thke number ar oparetr ta niye nobo\n",
    "sign=input(\"give a sign : \")\n",
    "frist_n= int(input(\"enter a num : \"))\n",
    "sec_n=int(input('Enter a num : '))\n",
    "\n",
    "#funtion ta banabo\n",
    "def calculation(sign , frist_n , sec_n ):\n",
    "    if sign == \"+\":\n",
    "        cal = frist_n + sec_n\n",
    "        return cal\n",
    "    \n",
    "    if sign == \"-\":\n",
    "        cal = frist_n - sec_n\n",
    "        return cal\n",
    "    \n",
    "    if sign == \"*\":\n",
    "        cal = frist_n * sec_n\n",
    "        return cal\n",
    "    \n",
    "    if sign == \"/\":\n",
    "        cal = frist_n / sec_n\n",
    "        return cal\n",
    "    \n",
    "#funtion tareturn korbo.\n",
    "print(calculation(sign , frist_n , sec_n ))    \n",
    "    \n",
    "#code ended"
   ]
  },
  {
   "cell_type": "markdown",
   "metadata": {
    "colab_type": "text",
    "id": "j6RsRgJP5D8y"
   },
   "source": [
    "### Task 17\n",
    "Write a python function which will take a string as an argument. \n",
    "\n",
    "Your first task is to take a string as user input and pass the value to the function.\n",
    "\n",
    "Your second task is to implement a function which will check whether all the alphabets from a to j (convert all the alphabets to lowercase) has appeared at least once in the given string or not. \n",
    "- If all of these alphabets (a to j) appear at least once, then the result will be 5. \n",
    "- If any one of the alphabets (a to j) is not in the given string, then the result will be 6.\n",
    "\n",
    "Return this result and print the statement, \"Chelsea is the best club in England\" that many times.\n",
    "\n",
    "**Example:**\n",
    "\"A black jackal is hunting a full grown deer\" \n",
    "\n",
    "Here all the alphabets from A to J are present at least once. So, the function will return 5 and will print the statement 5 times.\n",
    "\n",
    "**Input:**\\\n",
    "\"A black jackal is hunting a full grown deer\"\\\n",
    "**Function Call:**\\\n",
    "function_name(\"A black jackal is hunting a full grown deer\")\\\n",
    "**Output:**\\\n",
    "Chelsea is the best club in England\\\n",
    "Chelsea is the best club in England\\\n",
    "Chelsea is the best club in England\\\n",
    "Chelsea is the best club in England\\\n",
    "Chelsea is the best club in England\n",
    "\n",
    "==============================================\n",
    "\n",
    "**Input:**\\\n",
    "\"ABBCDEFEFGHI\"\\\n",
    "**Function Call:**\\\n",
    "function_name(\"ABBCDEFEFGHI\")\\\n",
    "**Output:**\\\n",
    "Chelsea is the best club in England\\\n",
    "Chelsea is the best club in England\\\n",
    "Chelsea is the best club in England\\\n",
    "Chelsea is the best club in England\\\n",
    "Chelsea is the best club in England\\\n",
    "Chelsea is the best club in England\n"
   ]
  },
  {
   "cell_type": "code",
   "execution_count": 13,
   "metadata": {
    "colab": {},
    "colab_type": "code",
    "id": "U6SYD49C5D9E"
   },
   "outputs": [
    {
     "name": "stdout",
     "output_type": "stream",
     "text": [
      "Enter a stringasdfghj\n",
      "Chelsea is the best club in England\n",
      "Chelsea is the best club in England\n",
      "Chelsea is the best club in England\n",
      "Chelsea is the best club in England\n",
      "Chelsea is the best club in England\n",
      "Chelsea is the best club in England\n"
     ]
    }
   ],
   "source": [
    "#user theke string nibo.\n",
    "string = input(\"Enter a string\").lower()\n",
    "\n",
    "#funtion banabo\n",
    "def function_name(string):\n",
    "    counter= 0\n",
    "    for iii in range( 97 ,107):\n",
    "        if chr(iii) not in string:\n",
    "            counter +=1\n",
    "    \n",
    "    if counter == 0:\n",
    "        return 5\n",
    "    else:\n",
    "        return 6\n",
    "\n",
    "#returning the value of funtion\n",
    "num = function_name(string)\n",
    "\n",
    "#wrong info , tarpor o comment ta print korbo. \n",
    "for jjj in range(num):\n",
    "    print(\"Chelsea is the best club in England\")\n",
    "    \n",
    "#code ended"
   ]
  },
  {
   "cell_type": "markdown",
   "metadata": {
    "colab_type": "text",
    "id": "KGitjtfO5D83"
   },
   "source": [
    "### Task 18\n",
    "Write a function which will take 2 arguments. They are:\n",
    "- Sentence \n",
    "- position \n",
    "\n",
    "Your first task is to take these arguments as user input and pass these values to the function parameters.\n",
    "\n",
    "Your second task is to implement the function and remove the characters at the index number which is divisible by the position (Avoid the index number 0 as it will always be divisible by the position, so no need to remove the index 0 character). \n",
    "Finally, add the removed characters at the end of the new string.\n",
    "\n",
    "Return the value and then finally, print the new string at the function call.\n",
    "\n",
    "**Input:**\\\n",
    "\"I love programming.\"\\\n",
    "3\\\n",
    "**Function call:**\\\n",
    "function_name(\"I love programming.\", 3)\\\n",
    "**Output:**\\\n",
    "I lveprgrmmngo oai.\n",
    "\n",
    "==============================================\n",
    "\n",
    "**Input:**\\\n",
    "\"Python is easy to learn. I love python.\"\\\n",
    "6\\\n",
    "**Function call:**\\\n",
    "function_name(\"Python is easy to learn. I love python.\", 6)\\\n",
    "**Output:**\\\n",
    "Pythonis eay to earn.I lov pythn. sl eo\n"
   ]
  },
  {
   "cell_type": "code",
   "execution_count": 12,
   "metadata": {
    "colab": {},
    "colab_type": "code",
    "id": "1Op6YcHY5D84"
   },
   "outputs": [
    {
     "name": "stdout",
     "output_type": "stream",
     "text": [
      "Enter string : I love programming.\n",
      "Enter a number   ; 3\n",
      "I lveprgrmmngo oai.\n"
     ]
    }
   ],
   "source": [
    "#todo\n",
    "#user input golo niye nibo.\n",
    "str_1 = input(\"Enter string : \")\n",
    "posi = int(input(\"Enter a number   ; \"))\n",
    "\n",
    "#funtion banabo\n",
    "def mfma(str_1 , posi):\n",
    "    \n",
    "    new_s =''\n",
    "    old_s =''+ str_1[0]\n",
    "    \n",
    "    for iii in range(len(str_1)):    \n",
    "        \n",
    "        if iii % posi ==0:\n",
    "            new_s =new_s + str_1[iii]\n",
    "            \n",
    "        else:\n",
    "            old_s=old_s + str_1[iii]\n",
    "        \n",
    "    str_4 = old_s + new_s[1:]\n",
    "    \n",
    "    return str_4\n",
    "\n",
    "# funtion return korbo.\n",
    "print(mfma(str_1 , posi)) \n",
    "\n",
    "#code ended"
   ]
  },
  {
   "cell_type": "markdown",
   "metadata": {
    "colab_type": "text",
    "id": "5Gq0ZAzQ5D8-"
   },
   "source": [
    "### Task 19\n",
    "You have been hired as an app developer for the company karon_tumi_bekar. The company plans to make an app for a grocery store where the user can order groceries and see the total amount to be paid in the cart section. \n",
    "\n",
    "To build this feature, you have to write a function that takes 2 arguments. They are:\n",
    "- order_items (must be a list)\n",
    "- location (default value should be set to \"Dhanmondi\")\n",
    "\n",
    "Your first task is to take a list of items from the user. Pass the list into the function parameter along with the optional location (Use default argument technique). (Also, no need to take location as input, pass this any value you want.) \n",
    "\n",
    "Your second task is to implement the function. In the function, create a dictionary for the items shown in the table. Calculate the total price of the items passed as a list to the function. Additionally, add a delivery fee of 30 taka if the location is Dhanmondi. Otherwise, add a delivery fee of 70 taka. Finally, return the value and print it.\n",
    "\n",
    "| Item | Price(Tk) |\n",
    "| --- | --- |\n",
    "| Rice | 105 |\n",
    "| Potato | 20 |\n",
    "| Chicken | 250 |\n",
    "| Beef | 510 |\n",
    "| Oil | 85 |\n",
    "\n",
    "**Hint:** The keys are the items and values are the corresponding price. Iterate the items in the list and check if the items in the list are available in the dictionary keys or not. If it is available, add the price.\n",
    "\n",
    "**Example:**\\\n",
    "function_name([\"Rice\", \"Beef\", \"Rice\"], \"Mohakhali\")\n",
    "\n",
    "total = 105 + 510 + 105 = 720 (Take the price of each item and add them.)\\\n",
    "total = 720 + 70 = 790 (Finally, add the delivery fee based on the location.)\n",
    "\n",
    "**Input:**\\\n",
    "[\"Rice\", \"Beef\", \"Rice\"]\\\n",
    "**Function Call:**\\\n",
    "function_name([\"Rice\", \"Beef\", \"Rice\"], \"Mohakhali\")\\\n",
    "**Output:**\\\n",
    "790\n",
    "\n",
    "==============================================\n",
    "\n",
    "**Input:**\\\n",
    "[\"Rice\", \"Beef\", \"Rice\"]\\\n",
    "**Function Call:**\\\n",
    "function_name([\"Rice\", \"Beef\", \"Rice\"])\\\n",
    "**Output:**\\\n",
    "750"
   ]
  },
  {
   "cell_type": "code",
   "execution_count": 6,
   "metadata": {
    "colab": {},
    "colab_type": "code",
    "id": "-vQ3gIWm5D8-"
   },
   "outputs": [
    {
     "name": "stdout",
     "output_type": "stream",
     "text": [
      "How meny items do you want order : 1\n",
      "enter you order  ; OIL\n",
      "do you want to give location , please input \"yes\" or \"No\" ; YES\n",
      "Enter you location  ; MF\n",
      "155\n"
     ]
    }
   ],
   "source": [
    "#to do \n",
    "#User Order list banate koita order ta jene nibo..\n",
    "cou= int(input('How meny items do you want order : '))\n",
    "o_list=[]\n",
    "\n",
    "#Ekta list a user input niye nibo.\n",
    "for i in range(cou):\n",
    "    order= input('enter you order  ; ').lower()\n",
    "    o_list.append(order)\n",
    "\n",
    "#Location dibe kina ask korbo , na dile defult value hishbe dhanmondi dhore nibo.\n",
    "hhh=input('Do you want to give location , Please input \"Yes\" or \"No\" ; ').lower()\n",
    "\n",
    "#YES Hole location input niye nibo, dhanmondi hole delevary 30 taka.\n",
    "if hhh== \"yes\":\n",
    "    loca= input('Enter you location  ; ').lower()\n",
    "\n",
    "#Funtion Banabo\n",
    "\n",
    "def foodlist(o_list, loca=\"dhanmondi\"):\n",
    "    h_menu = {'rice':105, 'potato':20 ,'chicken':250 ,'beef':510, 'oil':85 }\n",
    "    \n",
    "    total = 0\n",
    "    \n",
    "    for k in o_list:\n",
    "        total= total+ h_menu[k]\n",
    "            \n",
    "    if loca == \"dhanmondi\":\n",
    "        total = total + 30\n",
    "    else:\n",
    "        total =total + 70\n",
    "    return total\n",
    "\n",
    "#Uuser input onojai value return korbo.\n",
    "if hhh== 'yes':\n",
    "    print(foodlist(o_list, loca))\n",
    "if hhh== 'no':\n",
    "    print(foodlist(o_list))\n",
    "    \n",
    "#Code ended"
   ]
  },
  {
   "cell_type": "markdown",
   "metadata": {
    "colab_type": "text",
    "id": "XGLNNSH25D9B"
   },
   "source": [
    "### Task 20\n",
    "You have been hired by the Abahani football club to write a function that will calculate the total bonus on the yearly earnings of each player for the total goals they have scored. Since the number of players will vary, you decide to use the \"*args\" technique that you learned in your CSE110 class. (No need to take any input from the user. Call the functions and print the values inside the function.) \n",
    "For each player: pass the name, yearly earning, the total goal scored this season, bonus percent per goal. Additionally, if the goal scored is above 30, add an extra bonus of 10000 taka. If it is between 20 and 30 inclusive, add an extra 5000 taka.\n",
    "\n",
    "**Example:**\\\n",
    "function_name(\"Neymar\", 1200000, 30, 10)\n",
    "\n",
    "bonus = 30 * (10 / 100 * 1200000) + 5000 = 3605000\n",
    "\n",
    "**Function call:**\\\n",
    "function_name(\"Neymar\", 1200000, 30, 10)\\\n",
    "**Output:**\\\n",
    "Neymar earned a bonus of 3605000 Taka for 30 goals.\n",
    "\n",
    "=====================================================\n",
    "\n",
    "**Function call:**\\\n",
    "function_name(\"Neymar\", 1200000, 30, 10, \"Jamal\", 700000, 19, 5)\\\n",
    "**Output:**\\\n",
    "Neymar earned a bonus of 3605000 Taka for 30 goals.\\\n",
    "Jamal earned a bonus of 665000 Taka for 19 goals.\n",
    "\n",
    "\n",
    "\n"
   ]
  },
  {
   "cell_type": "code",
   "execution_count": 5,
   "metadata": {
    "colab": {},
    "colab_type": "code",
    "id": "IIz3msUa5D9B"
   },
   "outputs": [
    {
     "name": "stdout",
     "output_type": "stream",
     "text": [
      "Neymar earned a bonus of 5000 Taka for  30 goals.\n",
      "Jamal earned a bonus of 5000 Taka for  30 goals.\n"
     ]
    }
   ],
   "source": [
    "# to do\n",
    "# funtion banabo.\n",
    "def salary(*element):\n",
    "    \n",
    "    count = 0\n",
    "    t_salary = 0\n",
    "    \n",
    "    score = 0\n",
    "    p_name = \"\"\n",
    "    \n",
    "    salary = 0\n",
    "    bonus=0\n",
    "    \n",
    "    #calculating the bonus.\n",
    "    for iii in element:\n",
    "        \n",
    "        if count % 4  == 0:\n",
    "            p_name =  iii\n",
    "            \n",
    "        elif count % 4  == 1:\n",
    "            salary =  iii\n",
    "            \n",
    "        elif count % 4  == 2:\n",
    "            score =  iii\n",
    "            \n",
    "        elif count % 4  == 3:\n",
    "            bonus = iii\n",
    "            \n",
    "            if score > 30:\n",
    "                t_salary +=10000\n",
    "                \n",
    "            elif score >=20 and score <= 30:\n",
    "                t_salary +=5000\n",
    "                \n",
    "            print(p_name , 'earned a bonus of' , t_salary , 'Taka for ' ,30 ,'goals.') \n",
    "            \n",
    "        count+=1\n",
    "\n",
    "#calling the funtion        \n",
    "salary(\"Neymar\", 1200000, 30, 10, \"Jamal\", 700000, 19, 5 )\n",
    "\n",
    "#code ended"
   ]
  },
  {
   "cell_type": "code",
   "execution_count": null,
   "metadata": {},
   "outputs": [],
   "source": []
  }
 ],
 "metadata": {
  "colab": {
   "collapsed_sections": [],
   "name": "CSE110 Assignment05.ipynb",
   "provenance": []
  },
  "kernelspec": {
   "display_name": "Python 3",
   "language": "python",
   "name": "python3"
  },
  "language_info": {
   "codemirror_mode": {
    "name": "ipython",
    "version": 3
   },
   "file_extension": ".py",
   "mimetype": "text/x-python",
   "name": "python",
   "nbconvert_exporter": "python",
   "pygments_lexer": "ipython3",
   "version": "3.7.6"
  }
 },
 "nbformat": 4,
 "nbformat_minor": 1
}
