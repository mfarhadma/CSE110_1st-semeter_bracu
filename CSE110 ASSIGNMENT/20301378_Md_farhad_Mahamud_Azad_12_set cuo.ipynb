{
 "cells": [
  {
   "cell_type": "markdown",
   "metadata": {
    "colab_type": "text",
    "id": "0ZcT5c9CjT8P"
   },
   "source": [
    "# SUMMER 2020\n",
    "\n",
    "# CSE110 MID\n",
    "**<font color='red'>[MUST MAINTAIN VARIABLE NAMING CONVENTIONS FOR ALL THE TASKS]</font>**\n",
    "\n",
    "**<font color='red'>[Writing comments(explanatory sentences) in any of the code is completely optional]</font>**"
   ]
  },
  {
   "cell_type": "markdown",
   "metadata": {
    "colab_type": "text",
    "id": "hQCnOmw6iWER"
   },
   "source": [
    "# Task 01\n",
    "Mrs. Mishti regularly orders from her local cake shop. She is very fond of their fruit and cheesecakes. Depending on her total bill amount, the shop offers her a discount. The price of one fruit cake is **150** taka and the price of one cheese-cake is **100** taka. The table below shows the discount she will get on her total amount.\n",
    "\n",
    "\n",
    "\n",
    "|Total Amount (TK)|Discount (TK)|\n",
    "|------|------|\n",
    "|0 - 250|No Discount|\n",
    "|251 - 599|35|\n",
    "|600 - 849 |80|\n",
    "|850 - 999|100|\n",
    "|>= 1000|150|\n",
    "\n",
    "Write a python program that takes two inputs from the user. The first input will be the number of fruit cakes and the second input will be the number of cheese-cakes. Based on the price of items, calculate the total amount that Mrs. Mishti will have to pay.   \n",
    "\n",
    " ================================\n",
    "\n",
    "\n",
    "**Sample input(1):**\\\n",
    "0\\\n",
    "2\n",
    "\n",
    "\n",
    "**Sample Output(1):**\\\n",
    "Previous total: 200\\\n",
    "New total after discount: 200\n",
    "\n",
    "\n",
    "*Explanation(1): 0 * 150 + 2 * 100= 200Tk was her bill without discount.  For 200Tk, the discount amount is 0Tk. So, her new bill with a discount is (200-0)= 200Tk.*\n",
    "\n",
    "================================\n",
    "\n",
    "**Sample input 2:**\\\n",
    "10\\\n",
    "5\n",
    "\n",
    "\n",
    "**Sample output 2:**\\\n",
    "Previous total: 2000\\\n",
    "New total after discount: 1850\n",
    "\n",
    "\n",
    "\n",
    "*Explanation(2):   10 * 150 + 5 * 100= 2000Tk was her bill without discount.  For 2000Tk, the discount amount is 150Tk. So, her new bill with a discount is (2000-150)= 1850Tk.*\n",
    "\n",
    "\n",
    "\n",
    "\n"
   ]
  },
  {
   "cell_type": "code",
   "execution_count": 4,
   "metadata": {
    "colab": {},
    "colab_type": "code",
    "id": "P0vIwmbeiWEU"
   },
   "outputs": [
    {
     "name": "stdout",
     "output_type": "stream",
     "text": [
      "Enter the amount of fruit_cake  : 10\n",
      "Enter the amount of cheese_cake : 5\n",
      "Previous total :  2000\n",
      "New total discount :  1850\n"
     ]
    }
   ],
   "source": [
    "#task 1\n",
    "#to do\n",
    "\n",
    "#taking input from user.\n",
    "fruit_cake = int (input(\"Enter the amount of fruit_cake  : \"))\n",
    "cheese_cake = int (input(\"Enter the amount of cheese_cake : \"))\n",
    "\n",
    "#calculating total price and printing it.\n",
    "\n",
    "Price_fruit_cake = fruit_cake * 150\n",
    "Price_cheese_cake = cheese_cake* 100\n",
    "\n",
    "total_price = Price_fruit_cake + Price_cheese_cake\n",
    "\n",
    "print(\"Previous total : \" , total_price)\n",
    "\n",
    "\n",
    "#code for discount , according to price.\n",
    "\n",
    "if ( total_price >= 0 and total_price <= 250 ):\n",
    "    print (\"New total discount : \", total_price - 0)\n",
    "    \n",
    "if ( total_price >= 251 and total_price <= 599 ):\n",
    "    print (\"New total discount : \", total_price - 35)\n",
    "    \n",
    "if ( total_price >= 600 and total_price <= 849 ):\n",
    "    print (\"New total discount : \", total_price - 80)\n",
    "    \n",
    "if ( total_price >= 850 and total_price <= 999 ):\n",
    "    print (\"New total discount : \", total_price - 100)\n",
    "    \n",
    "if ( total_price >= 1000 ):\n",
    "    print (\"New total discount : \", total_price - 150)\n",
    "    \n",
    "#code ended"
   ]
  },
  {
   "cell_type": "markdown",
   "metadata": {
    "colab_type": "text",
    "id": "zUyYKkWViWEd"
   },
   "source": [
    "# Task 02\n",
    "Write a Python program that takes an input from the user and count how many **\"5\"** are present in the input.\n",
    "\n",
    "\n",
    " **<font color='red'>[You cannot use the count() function]</font>**\n",
    "\n",
    "\n",
    " \n",
    "  ================================\n",
    " \n",
    "**Sample input 1:**\\\n",
    "59555555 \\\n",
    "**Sample output 1:**\\\n",
    "7\n",
    " \n",
    "  ================================\n",
    "\n",
    "**Sample input 2:**\\\n",
    "81103212 \\\n",
    "**Sample output 2:**\\\n",
    "0"
   ]
  },
  {
   "cell_type": "code",
   "execution_count": 40,
   "metadata": {
    "colab": {},
    "colab_type": "code",
    "id": "_oEJ6XwgiWEh"
   },
   "outputs": [
    {
     "name": "stdout",
     "output_type": "stream",
     "text": [
      "enter a Number : 23455555555555566677\n",
      "12\n"
     ]
    }
   ],
   "source": [
    "#task 2\n",
    "#to do\n",
    "user_number = input(\"enter a Number : \")\n",
    "\n",
    "#counting number_of_5.\n",
    "number_of_5 = 0\n",
    "\n",
    "#making digit in integer and checking ,is it eqal of 5 or not? \n",
    "for counter in user_number :\n",
    "    int_num = int(counter)  \n",
    "    if (int_num == 5):\n",
    "        number_of_5 += 1\n",
    "        \n",
    "#printing rhe number_of_5.\n",
    "print(number_of_5)\n",
    "\n",
    "#code ended."
   ]
  },
  {
   "cell_type": "markdown",
   "metadata": {
    "colab_type": "text",
    "id": "CEhXrQIhiWEo"
   },
   "source": [
    "# Task 03\n",
    "Write a python program which takes **6** numbers as an input from the user using loops and store those values in a list. Then, your program should swap the first and last values of the list if they are different. However, if these two values are the same, then they will not be swapped. Lastly, your program should print all the elements of the final list.\n",
    "\n",
    "\n",
    " \n",
    "  ================================\n",
    " \n",
    "**Sample input 1:**\\\n",
    "1, 2, 3, 5, 1, 4\\\n",
    "**Sample output 1:**\\\n",
    " 4, 2, 3, 5, 1, 1\\\n",
    " \\\n",
    "\n",
    " *Explanation: first number in list = 1, last number in list = 4, first number and last number are different so we swap them, thus first number in list now becomes 4 and last number in the list becomes 1 which is what we see when we print the final list*\n",
    " \n",
    "  ================================\n",
    "\n",
    "**Sample input 2:**\\\n",
    "1, 2, 3, 2, 2, 1\\\n",
    "**Sample output 2:**\\\n",
    "1, 2, 3, 2, 2, 1\\\n",
    "\\\n",
    "*Explanation: first number in list = 1, last number in list = 1, first number and last number are same so no need to swap them, thus the final list is as it is when we print it*\n"
   ]
  },
  {
   "cell_type": "code",
   "execution_count": 39,
   "metadata": {
    "colab": {},
    "colab_type": "code",
    "id": "gWQIR06LiWEp"
   },
   "outputs": [
    {
     "name": "stdout",
     "output_type": "stream",
     "text": [
      "Enter a Number for making list : 2\n",
      "Enter a Number for making list : 3\n",
      "Enter a Number for making list : 4\n",
      "Enter a Number for making list : 5\n",
      "Enter a Number for making list : 6\n",
      "Enter a Number for making list : 2\n",
      "Input_List :  [2, 3, 4, 5, 6, 2]\n",
      "Output List :  [2, 3, 4, 5, 6, 2]\n"
     ]
    }
   ],
   "source": [
    "#task 3\n",
    "#to do\n",
    "#taking 6 user input and storing it to a list.\n",
    "list_1 = []\n",
    "\n",
    "for count in range (6):\n",
    "    user_input = int(input(\"Enter a Number for making list : \"))\n",
    "    list_1.append(user_input)\n",
    "    \n",
    "#copying list_1.\n",
    "\n",
    "print(\"Input_List : \" , list_1)\n",
    "list_2 = list_1.copy()\n",
    "\n",
    "#if last and 1st value of list not same , they will inter change their position.\n",
    "if (list_1[0] != list_1[-1]):\n",
    "    list_2[0] = list_1[-1] \n",
    "    list_2[-1] = list_1[0]\n",
    "    print(\"Output List : \" , list_2)\n",
    "\n",
    "#if 1st qnd last values are the same, then they will not be swapped and list will remain the same.\n",
    "if (list_1[0] == list_1[-1]):\n",
    "    print(\"Output List : \" , list_1)\n",
    "\n",
    "#code ended."
   ]
  },
  {
   "cell_type": "markdown",
   "metadata": {
    "colab": {},
    "colab_type": "code",
    "id": "dDpwG8ImNrFg"
   },
   "source": [
    "###### "
   ]
  }
 ],
 "metadata": {
  "colab": {
   "collapsed_sections": [],
   "name": "set 07.ipynb",
   "provenance": []
  },
  "kernelspec": {
   "display_name": "Python 3",
   "language": "python",
   "name": "python3"
  },
  "language_info": {
   "codemirror_mode": {
    "name": "ipython",
    "version": 3
   },
   "file_extension": ".py",
   "mimetype": "text/x-python",
   "name": "python",
   "nbconvert_exporter": "python",
   "pygments_lexer": "ipython3",
   "version": "3.7.6"
  }
 },
 "nbformat": 4,
 "nbformat_minor": 1
}
