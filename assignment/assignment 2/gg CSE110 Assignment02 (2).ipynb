{
 "cells": [
  {
   "cell_type": "markdown",
   "metadata": {},
   "source": [
    "# CSE110 Assignment 2\n",
    "\n",
    "This assignment is to guide you to solve basic programming problems using loop in Python. \n",
    "\n",
    "## Write the Python code of the following problems:"
   ]
  },
  {
   "cell_type": "markdown",
   "metadata": {},
   "source": [
    "### Task 1\n",
    "\n",
    "Write python program, which prints the following sequences of values in loops:\n",
    "\n",
    "a)\t24, 18, 12, 6, 0, -6\\\n",
    "b)\t-10, -5, 0, 5, 10, 15, 20\\\n",
    "c)\t18, 27, 36, 45, 54, 63\\\n",
    "d)\t18,-27, 36,-45,54,-63\n",
    "\n",
    "**Hints(1):** Use a while loop for solving these problems.\n",
    "\n",
    "**Hints(2):** We are already familiar with the print() function. But when we use it to print any value it automatically adds an additional newline after each print statement.\n",
    "\n",
    "For example:\\\n",
    "print(1)\\\n",
    "print(2)\n",
    "\n",
    "Output:\\\n",
    "1\\\n",
    "2\n",
    "\n",
    "=====================================================================\n",
    "\n",
    "To solve this problem, in Python3, we need to add an extra argument (end = \" \") in the print function which tells the program to skip printing the additional newline.\n",
    "\n",
    "For example:\\\n",
    "print(1, end =\" \")\\\n",
    "print(2)\n",
    "\n",
    "Output:(prints the next output right to the previous one)\\\n",
    "12\n",
    "\n",
    "=====================================================================\n",
    "\n",
    "In Task-1(a), the loop counter should be initialized at 24 and the loop should terminate when the loop counter reaches -6. The difference between the first two values is 24-18=6. So the loop counter value is getting decremented by 6 in every iteration.\n",
    "\n",
    "For your understanding task 1(a) code is done for you.\n"
   ]
  },
  {
   "cell_type": "code",
   "execution_count": 1,
   "metadata": {},
   "outputs": [
    {
     "name": "stdout",
     "output_type": "stream",
     "text": [
      "24, 18, 12, 6, 0, -6"
     ]
    }
   ],
   "source": [
    "# a) 24, 18, 12, 6, 0, -6\n",
    "\n",
    "# initialize loop counter\n",
    "counter = 24\n",
    "\n",
    "# loop structure\n",
    "while counter >= -6:\n",
    "    \n",
    "    #inside loop body\n",
    "    if counter == -6:\n",
    "        print(counter, end = \"\") \n",
    "    else:\n",
    "        print(counter, end = \", \") \n",
    "     \n",
    "    counter = counter - 6 #updating loop counter\n",
    "    #inside loop body\n",
    "    \n",
    "#outside loop body"
   ]
  },
  {
   "cell_type": "code",
   "execution_count": 2,
   "metadata": {},
   "outputs": [
    {
     "name": "stdout",
     "output_type": "stream",
     "text": [
      "-10, -5, 0, 5, 10, 15, 20"
     ]
    }
   ],
   "source": [
    "# b)-10, -5, 0, 5, 10, 15, 20\n",
    "\n",
    "\n",
    "# intialize loop counter\n",
    "\n",
    "counter = -10\n",
    "\n",
    "#loop structure\n",
    "\n",
    "while counter <=20 :\n",
    "    \n",
    "    #inside loop body\n",
    "    \n",
    "    if (counter == 20):\n",
    "        print(counter, end = \"\") \n",
    "        \n",
    "    else:\n",
    "        print(counter, end = \", \") \n",
    "    \n",
    "    counter += 5 #updating loop counter\n",
    "    \n",
    "    #inside loop body\n",
    "    \n",
    "#outside loop body\n",
    "\n",
    "#code ended."
   ]
  },
  {
   "cell_type": "code",
   "execution_count": 3,
   "metadata": {},
   "outputs": [],
   "source": [
    "# c)18, 27, 36, 45, 54, 63"
   ]
  },
  {
   "cell_type": "markdown",
   "metadata": {},
   "source": [
    "**Hints for 1(d):** \n",
    "\n",
    "print(5 * (-1)) gives output -5\\\n",
    "print(\"-\" + str(5)) gives output -5"
   ]
  },
  {
   "cell_type": "code",
   "execution_count": 4,
   "metadata": {},
   "outputs": [],
   "source": [
    "# d)18,-27, 36,-45,54,-63\n"
   ]
  },
  {
   "cell_type": "markdown",
   "metadata": {},
   "source": [
    "====================================================================\\\n",
    "<font color='blue'>\n",
    "All the tasks can be solved using both the \"while loop\" and the \"for loop\". But you need to choose the best looping construct which is the most suitable for solving a particular task.\n",
    "</font>\n",
    "\n",
    "===================================================================="
   ]
  },
  {
   "cell_type": "markdown",
   "metadata": {},
   "source": [
    "### Task 2\n",
    "Write a Python code for the following:\n",
    "\n",
    "1)\tAsk the user to enter the name of his favorite car.\\\n",
    "2)\tAsk the user to enter a Number\n",
    "\n",
    "Display the name of the user’s favorite car, the number of times specified in the second step.\n",
    "\n",
    "**Example:** If the user enters “Toyota” and 20, your program should print the name “Toyota” twenty times.\n",
    "\n",
    "**Example:** If the user enters “Veyron” and 5, your program should print the name “Veyron” five times.\n",
    "\n",
    "**Input:**\\\n",
    "Veyron, 5\n",
    "\n",
    "**Output:**\\\n",
    "Veyron\\\n",
    "Veyron\\\n",
    "Veyron\\\n",
    "Veyron\\\n",
    "Veyron\n"
   ]
  },
  {
   "cell_type": "code",
   "execution_count": 5,
   "metadata": {},
   "outputs": [],
   "source": [
    "#Todo"
   ]
  },
  {
   "cell_type": "markdown",
   "metadata": {},
   "source": [
    "### Task 3\n",
    "Write a Python code of a program that adds all numbers that are multiples of **both 7 and 9** up to 600 (including 600).\n",
    "\n",
    "Output: 2835\n"
   ]
  },
  {
   "cell_type": "code",
   "execution_count": 6,
   "metadata": {},
   "outputs": [],
   "source": [
    "#Todo"
   ]
  },
  {
   "cell_type": "markdown",
   "metadata": {},
   "source": [
    "### Task 4\n",
    "Write a Python code of a program that adds all numbers that are multiples of **either 7 or 9** up to 600(including 600). \\\n",
    "Ensure that numbers like 63 are added only once in the sum.\n",
    "\n",
    "Output: 42649\n"
   ]
  },
  {
   "cell_type": "code",
   "execution_count": 7,
   "metadata": {},
   "outputs": [],
   "source": [
    "#Todo"
   ]
  },
  {
   "cell_type": "markdown",
   "metadata": {},
   "source": [
    "### Task 5\n",
    "Write a Python code of a program that adds all numbers that are multiples of **either 7 or 9 but not both**, up to 600(including 600).\n",
    "\n",
    "Output: 39814\n"
   ]
  },
  {
   "cell_type": "code",
   "execution_count": 8,
   "metadata": {},
   "outputs": [],
   "source": [
    "#Todo"
   ]
  },
  {
   "cell_type": "markdown",
   "metadata": {},
   "source": [
    "### Task 6\n",
    "Write a Python code to displays all the **odd numbers** between 10 and 50.\n",
    "\n",
    "Output: 11 13 15 17 19 21 23 25 27 29 31 33 35 37 39 41 43 45 47 49\n"
   ]
  },
  {
   "cell_type": "code",
   "execution_count": 9,
   "metadata": {},
   "outputs": [],
   "source": [
    "#Todo"
   ]
  },
  {
   "cell_type": "markdown",
   "metadata": {},
   "source": [
    "### Task 7\n",
    "Write a Python code that will calculate the **value of y if the expression** of y is as follows (n is the input):  \n",
    "\n",
    "$y = 1^2 - 2^2 +3^2 -4^2 +5^2 .........+ n^2 $\n",
    "\n",
    "**Example:** \n",
    "\n",
    "If the user enters 10, y= -55 \\\n",
    "If the user enters 20, y= -210\n"
   ]
  },
  {
   "cell_type": "code",
   "execution_count": 10,
   "metadata": {},
   "outputs": [],
   "source": [
    "#Todo"
   ]
  },
  {
   "cell_type": "markdown",
   "metadata": {},
   "source": [
    "### Task 8\n",
    "Write a Python code of a program that asks the user to enter ten numbers then display the total and the average of **ONLY** the **odd numbers** among those ten numbers.\n",
    "\n",
    "**Example(1):** \n",
    "\n",
    "Input: 1 2 3 4 5 6 7 8 9 10 \\\n",
    "Output: Total is 25 and Average is 5.0\\\n",
    "(i.e., Total is 25 = (1+3+5+7+9) and Average is 25/5 = 5.0)]\n",
    "\n",
    "\n",
    "**Example(2):** \n",
    "\n",
    "Input: -20  3  -5  40  -17  9  20  -8   99  -200 \\\n",
    "Output: Total is 89 and Average is 17.8 \\\n",
    "(i.e., Total is 89 =(3+(-5)+(-17)+9+99) and Average is 89/5 = 17.8)]\n",
    "\n",
    "\n"
   ]
  },
  {
   "cell_type": "code",
   "execution_count": 11,
   "metadata": {},
   "outputs": [],
   "source": [
    "#Todo"
   ]
  },
  {
   "cell_type": "markdown",
   "metadata": {},
   "source": [
    "### Task 9\n",
    "Write a Python code for the following:\n",
    "* Ask the user to enter a Number, N\n",
    "* Display the summation of multiples of 7 up to that number (**from 1 to N inclusive**)\n",
    "\n",
    "**Example(1):** If the user **enters 50**, your program should print 196. \\\n",
    "(Because: 7 + 14 + 21 + 28 + 35 + 42 + 49 = 196).\n",
    "\n",
    "**Example(2):** If the user **enters 75**, your program should print 385. \\\n",
    "(Because: 7 + 14 + 21 + 28 + 35 + 42 + 49 + 56 + 63 + 70 = 385).\n",
    "\n"
   ]
  },
  {
   "cell_type": "code",
   "execution_count": 12,
   "metadata": {},
   "outputs": [
    {
     "name": "stdout",
     "output_type": "stream",
     "text": [
      "Enter a Number  : 0987\n",
      "Sum is :  70077\n"
     ]
    }
   ],
   "source": [
    "#Todo\n",
    "number = int (input(\"Enter a Number  : \"))\n",
    "sum = 0\n",
    "for i in range (1 , number + 1):\n",
    "    if ( i % 7 == 0):\n",
    "        sum = sum + i\n",
    "print(\"Sum is : \" , sum)\n",
    "#code ended\n",
    "    "
   ]
  },
  {
   "cell_type": "markdown",
   "metadata": {},
   "source": [
    "### Task 10\n",
    "Write a Python code that will read 10 numbers from the user, and then print the first number, the sum of the first 2 numbers, the sum of the first 3 numbers, and so on up to the sum of 10 numbers.\n",
    "\n",
    "For example,\n",
    "\n",
    "The user enters 10, output 10, then \\\n",
    "The user enters 2, (10+2) = 12, output 12, then \\\n",
    "The user enters 4, (10+2+4) = 16, output 16, then \\\n",
    "The user enters 20, (10+2+4+20) = 36, output 36, and continuous till the 10$^{th}$ input\n"
   ]
  },
  {
   "cell_type": "markdown",
   "metadata": {},
   "source": [
    "#### Todo\n",
    "\n",
    "\n",
    "num=[]\n",
    "\n",
    "sum= 0\n",
    "\n",
    "for i in range (0 , 10):\n",
    "    \n",
    "    iNput = int (input(\"Enter number \"))\n",
    "    \n",
    "    num.append(iNput)\n",
    "    \n",
    "    sum = sum + iNput\n",
    "    \n",
    "    print(sum)\n",
    "    \n",
    "#code ended"
   ]
  },
  {
   "cell_type": "raw",
   "metadata": {},
   "source": [
    "#Todo\n",
    "number = int(input(\"Enter a number = \"))\n",
    "\n",
    "unit = number % 10  #8 #12327868\n",
    "\n",
    "without_unit = number // 10 #1232786\n",
    "\n",
    "tenth = without_unit % 10 #1232786 # 6\n",
    "\n",
    "without_tenth= without_unit // 10 # 123278\n",
    "\n",
    "hundredth =without_tenth % 10 #123278 #8 \n",
    "\n",
    "without_hundredth = without_tenth // 10 #12327\n",
    "\n",
    "thou = without_hundredth % 10 #12327 #7\n",
    "\n",
    "without_thou= without_hundredth //10 #1232 \n",
    "\n",
    "ten_thou=without_thou % 10 #1232 #2\n",
    "\n",
    "without_ten_thou = without_thou // 10 #123\n",
    "\n",
    "lakh = without_ten_thou % 10 #12 #3\n",
    "\n",
    "whithout_lakh = without_ten_thou //10 # 12\n",
    "\n",
    "milion = whithout_lakh % 10 #12 # 2\n",
    "\n",
    "without_milion = whithout_lakh //10 #1\n",
    "\n",
    "corer = without_milion % 10 #0\n",
    "\n",
    "#taking input\n",
    "    \n",
    "if (number >1000000):\n",
    "    print(corer , \"corer\", \",\" ,milion ,\"milion\" , \",\", lakh , \"lakh\" , \",\" , ten_thou ,\"ten_thou\" , \",\", thou, \"thou\", \",\" , hundredth ,\"hundredth\", \",\" ,tenth ,\"tenth\", \",\", unit ,\"unit\" )\n",
    "               \n",
    "elif (number >1000000):\n",
    "    print(corer , \"corer\", \",\" ,milion ,\"milion\" , \",\", lakh , \"lakh\" , \",\" , ten_thou ,\"ten_thou\" , \",\", thou, \"thou\", \",\" , hundredth ,\"hundredth\", \",\" ,tenth ,\"tenth\", \",\", unit ,\"unit\" )\n",
    "    \n",
    "            \n",
    "elif (number >1000000):\n",
    "    print(corer , \"corer\", \",\" ,milion ,\"milion\" , \",\", lakh , \"lakh\" , \",\" , ten_thou ,\"ten_thou\" , \",\", thou, \"thou\", \",\" , hundredth ,\"hundredth\", \",\" ,tenth ,\"tenth\", \",\", unit ,\"unit\" )\n",
    "    \n",
    "    \n",
    "elif (number > 100000 ):\n",
    "\n",
    "    print(lakh , \"lakh\" , \",\" , ten_thou ,\"ten_thou\" , \",\", thou, \"thou\", \",\" , hundredth ,\"hundredth\", \",\" ,tenth ,\"tenth\", \",\", unit ,\"unit\" )\n",
    "    \n",
    "    \n",
    "    \n",
    "elif (number > 10000 ):\n",
    "\n",
    "    print( ten_thou ,\"ten_thou\" , \",\", thou, \"thou\", \",\" , hundredth ,\"hundredth\", \",\" ,tenth ,\"tenth\", \",\", unit ,\"unit\" )\n",
    "    \n",
    "    \n",
    "    \n",
    "elif (number > 1000 ):\n",
    "\n",
    "    print( thou, \"thou\", \",\" , hundredth ,\"hundredth\", \",\" ,tenth ,\"tenth\", \",\", unit ,\"unit\" )\n",
    "\n",
    "    \n",
    "    \n",
    "elif(number > 100 ):\n",
    "\n",
    "        print(hundredth ,\"hundredth\", \",\" ,tenth ,\"tenth\", \",\", unit ,\"unit\" )\n",
    "    \n",
    "    \n",
    "elif (number > 10 ):\n",
    "    \n",
    "        print(tenth ,\"tenth\", \",\", unit ,\"unit\" )\n",
    "    \n",
    "elif(number > 0 ):\n",
    "    \n",
    "    print( unit ,\"unit\" )\n",
    "    \n",
    "#code ended"
   ]
  },
  {
   "cell_type": "code",
   "execution_count": null,
   "metadata": {},
   "outputs": [],
   "source": [
    "#Todo\n",
    "#Todo\n",
    "number = int(input(\"Enter a number = \"))\n",
    "\n",
    "unit = number % 10  #8 #12327868\n",
    "\n",
    "without_unit = number // 10 #1232786\n",
    "\n",
    "tenth = without_unit % 10 #1232786 # 6\n",
    "\n",
    "without_tenth= without_unit // 10 # 123278\n",
    "\n",
    "hundredth =without_tenth % 10 #123278 #8 \n",
    "\n",
    "without_hundredth = without_tenth // 10 #12327\n",
    "\n",
    "thou = without_hundredth % 10 #12327 #7\n",
    "\n",
    "without_thou= without_hundredth //10 #1232 \n",
    "\n",
    "ten_thou=without_thou % 10 #1232 #2\n",
    "\n",
    "without_ten_thou = without_thou // 10 #123\n",
    "\n",
    "lakh = without_ten_thou % 10 #12 #3\n",
    "\n",
    "whithout_lakh = without_ten_thou //10 # 12\n",
    "\n",
    "milion = whithout_lakh % 10 #12 # 2\n",
    "\n",
    "without_milion = whithout_lakh //10 #1\n",
    "\n",
    "corer = without_milion % 10 #0\n",
    "\n",
    "#taking input\n",
    "    \n",
    "if (number >1000000):\n",
    "    print(corer , \"corer\", \",\" ,milion ,\"milion\" , \",\", lakh , \"lakh\" , \",\" , ten_thou ,\"ten_thou\" , \",\", thou, \"thou\", \",\" , hundredth ,\"hundredth\", \",\" ,tenth ,\"tenth\", \",\", unit ,\"unit\" )\n",
    "               \n",
    "elif (number >1000000):\n",
    "    print(corer , \"corer\", \",\" ,milion ,\"milion\" , \",\", lakh , \"lakh\" , \",\" , ten_thou ,\"ten_thou\" , \",\", thou, \"thou\", \",\" , hundredth ,\"hundredth\", \",\" ,tenth ,\"tenth\", \",\", unit ,\"unit\" )\n",
    "    \n",
    "            \n",
    "elif (number >1000000):\n",
    "    print(corer , \"corer\", \",\" ,milion ,\"milion\" , \",\", lakh , \"lakh\" , \",\" , ten_thou ,\"ten_thou\" , \",\", thou, \"thou\", \",\" , hundredth ,\"hundredth\", \",\" ,tenth ,\"tenth\", \",\", unit ,\"unit\" )\n",
    "    \n",
    "    \n",
    "elif (number > 100000 ):\n",
    "\n",
    "    print(lakh , \"lakh\" , \",\" , ten_thou ,\"ten_thou\" , \",\", thou, \"thou\", \",\" , hundredth ,\"hundredth\", \",\" ,tenth ,\"tenth\", \",\", unit ,\"unit\" )\n",
    "    \n",
    "    \n",
    "    \n",
    "elif (number > 10000 ):\n",
    "\n",
    "    print( ten_thou ,\"ten_thou\" , \",\", thou, \"thou\", \",\" , hundredth ,\"hundredth\", \",\" ,tenth ,\"tenth\", \",\", unit ,\"unit\" )\n",
    "    \n",
    "    \n",
    "    \n",
    "elif (number > 1000 ):\n",
    "\n",
    "    print( thou, \"thou\", \",\" , hundredth ,\"hundredth\", \",\" ,tenth ,\"tenth\", \",\", unit ,\"unit\" )\n",
    "\n",
    "    \n",
    "    \n",
    "elif(number > 100 ):\n",
    "\n",
    "        print(hundredth ,\"hundredth\", \",\" ,tenth ,\"tenth\", \",\", unit ,\"unit\" )\n",
    "    \n",
    "    \n",
    "elif (number > 10 ):\n",
    "    \n",
    "        print(tenth ,\"tenth\", \",\", unit ,\"unit\" )\n",
    "    \n",
    "elif(number > 0 ):\n",
    "    \n",
    "    print( unit ,\"unit\" )\n",
    "    \n",
    "#code ended"
   ]
  },
  {
   "cell_type": "markdown",
   "metadata": {},
   "source": [
    "### Task 12\n",
    "\n",
    "Write a Python program that takes a number and tells how many digits are in that number. \n",
    "\n",
    "**Example:** If the user gives 9876, you should print 4. \n",
    "\n",
    "\n",
    "\n",
    "**Hint:** Keep floor dividing by ten and count how many times this could be divided. \n",
    "\n",
    "9876 floor divide by 10, is 987, count that got 1 digit (total 1) \\\n",
    "987 floor divide by 10, is 98, count that got 1 digit (total 2) \\\n",
    "98 floor divide by 10, is 9, count that got 1 digit (total 3) \\\n",
    "9 floor divide by 10, is 0, count that got 1 digit (total 4) \n",
    "\n",
    "Done! (When the number becomes 0 your loop should end.)\n",
    "\n"
   ]
  },
  {
   "cell_type": "code",
   "execution_count": 10,
   "metadata": {},
   "outputs": [
    {
     "name": "stdout",
     "output_type": "stream",
     "text": [
      "Enter a quentity : 5\n",
      "Enter a number : 10\n",
      "Enter a number : 4\n",
      "Enter a number : -100\n",
      "Enter a number : 1\n",
      "Enter a number : -1\n",
      "Maximum number is :  10\n",
      "Minimum number is :  -100\n"
     ]
    },
    {
     "ename": "TypeError",
     "evalue": "'int' object is not callable",
     "output_type": "error",
     "traceback": [
      "\u001b[1;31m---------------------------------------------------------------------------\u001b[0m",
      "\u001b[1;31mTypeError\u001b[0m                                 Traceback (most recent call last)",
      "\u001b[1;32m<ipython-input-10-d4492c1548f3>\u001b[0m in \u001b[0;36m<module>\u001b[1;34m\u001b[0m\n\u001b[0;32m     11\u001b[0m \u001b[0mprint\u001b[0m\u001b[1;33m(\u001b[0m\u001b[1;34m\"Maximum number is : \"\u001b[0m\u001b[1;33m,\u001b[0m \u001b[0mmax\u001b[0m\u001b[1;33m(\u001b[0m\u001b[0mlist_1\u001b[0m\u001b[1;33m)\u001b[0m\u001b[1;33m)\u001b[0m\u001b[1;33m\u001b[0m\u001b[1;33m\u001b[0m\u001b[0m\n\u001b[0;32m     12\u001b[0m \u001b[0mprint\u001b[0m\u001b[1;33m(\u001b[0m\u001b[1;34m\"Minimum number is : \"\u001b[0m\u001b[1;33m,\u001b[0m \u001b[0mmin\u001b[0m\u001b[1;33m(\u001b[0m\u001b[0mlist_1\u001b[0m\u001b[1;33m)\u001b[0m\u001b[1;33m)\u001b[0m\u001b[1;33m\u001b[0m\u001b[1;33m\u001b[0m\u001b[0m\n\u001b[1;32m---> 13\u001b[1;33m \u001b[0mprint\u001b[0m\u001b[1;33m(\u001b[0m\u001b[1;34m\"avarage number is : \"\u001b[0m\u001b[1;33m,\u001b[0m \u001b[0msum\u001b[0m\u001b[1;33m(\u001b[0m\u001b[0mlist_1\u001b[0m\u001b[1;33m)\u001b[0m \u001b[1;33m/\u001b[0m \u001b[0mlen\u001b[0m\u001b[1;33m(\u001b[0m\u001b[0mlist_1\u001b[0m\u001b[1;33m)\u001b[0m\u001b[1;33m)\u001b[0m\u001b[1;33m\u001b[0m\u001b[1;33m\u001b[0m\u001b[0m\n\u001b[0m\u001b[0;32m     14\u001b[0m \u001b[1;33m\u001b[0m\u001b[0m\n",
      "\u001b[1;31mTypeError\u001b[0m: 'int' object is not callable"
     ]
    }
   ],
   "source": []
  },
  {
   "cell_type": "markdown",
   "metadata": {},
   "source": [
    "###### \n",
    "\n",
    "#### Task 13\n",
    "Write a Python code of a program that takes a number and prints the value of 10 to the power that number. <font color='red'>You need to use a loop because math function power is not allowed in this task.</font> \n",
    "\n",
    "For example: if the user gives 3, print 1000. \n",
    "\n",
    "**Hint:** Keep multiplying 1 by 10, again and again. \\\n",
    "You need to write, \\\n",
    "$product = product x 10$\n",
    "\n",
    "$1 x 10 = 10 $ \\\n",
    "$10 x 10 = 100$ \\\n",
    "$100 x 10 = 1000$ \n"
   ]
  },
  {
   "cell_type": "code",
   "execution_count": null,
   "metadata": {},
   "outputs": [],
   "source": [
    "#Todo"
   ]
  },
  {
   "cell_type": "markdown",
   "metadata": {},
   "source": [
    "### Task 14\n",
    "\n",
    "Write a Python program that takes a number from the user and prints the divisors of that number and then print how many divisors were there.\n",
    "\n",
    "**Example1:** \n",
    "\n",
    "Input: 6 \\\n",
    "Output: \\\n",
    "1, 2, 3, 6 \\\n",
    "“Total 4 divisors”.\n",
    "\n",
    "\n",
    "**Example2:** \n",
    "\n",
    "Input: 121 \\\n",
    "Output: \\\n",
    "1, 11, 121\n",
    "\n",
    "“Total 3 divisors”.\n",
    "\n"
   ]
  },
  {
   "cell_type": "code",
   "execution_count": null,
   "metadata": {},
   "outputs": [],
   "source": [
    "#Todo"
   ]
  },
  {
   "cell_type": "markdown",
   "metadata": {},
   "source": [
    "### Task 15\n",
    "Write a Python program that takes a number and tells if it is a perfect number or not.\n",
    "\n",
    "**Perfect Number:** An integer number is said to be a perfect number if its factors, including 1 but not the number itself, sum to the number.\n",
    "\n",
    "**Example1:**\n",
    "\n",
    "Input: 6 \\\n",
    "Output: “6 is a perfect number” \\\n",
    "Explanation: 6 have 4 divisors: 1, 2, 3, and 6. \\\n",
    "If we add all factors except itself, 6 = 1 + 2 + 3.\n",
    "\n",
    "**Example2:**\n",
    "\n",
    "Input: 28 \\\n",
    "Output: “28 is a perfect number” \\\n",
    "Explanation: 28 have 6 divisors: 1, 2, 4, 7, 14, and 28. \\\n",
    "If we add all factors except itself, 28 = 1 + 2 + 4 + 7 + 14.\n",
    "\n",
    "**Example3:**\n",
    "\n",
    "Input: 33 \\\n",
    "Output: “33 is not a perfect number” \\\n",
    "Explanation: 33 have 3 divisors: 1, 3, 11, and 33. \\\n",
    "If we add all factors except itself, 15 = 1 + 3 + 11."
   ]
  },
  {
   "cell_type": "code",
   "execution_count": null,
   "metadata": {},
   "outputs": [],
   "source": [
    "#Todo\n",
    "number = int(input(\"Enter a number: \"))\n",
    "\n",
    "\n",
    "per= []\n",
    "for i in range ( 1 , number):\n",
    "    if(number % i==0):\n",
    "        per.append(i)\n",
    "\n",
    "sum1=0\n",
    "for cou in per :\n",
    "    sum1 = sum1 + cou\n",
    "\n",
    "\n",
    "if (number == sum1):\n",
    "    print(number , \" is a perfect number\" )\n",
    "    \n",
    "elif( number !=sum1):\n",
    "    print(number , \" is not a perfect number\")\n",
    "#code ended"
   ]
  },
  {
   "cell_type": "markdown",
   "metadata": {},
   "source": [
    "### Task 16\n",
    "\n",
    "Write a Python program that asks the user for one number and tells if it is a prime number or not. \n",
    "\n",
    "**Prime Number:** If a number has only two divisors, (1 and itself), then it is prime. If it is divisible by more numbers, then it is not a prime.\n",
    "\n",
    "**Hint:** use the divisor count from task 16. \n",
    "\n",
    "**Example1:** \n",
    "\n",
    "Input: 11 \\\n",
    "Output: “11 is a prime number” \\\n",
    "Explanation: 11 has only 2 divisors: 1, and 11.\n",
    "\n",
    "**Example2:** \n",
    "\n",
    "Input: 6 \\\n",
    "Output: “6 is not a prime number” \\\n",
    "Explanation: 6 have 4 divisors: 1, 2, 3 and 6.\n",
    "\n",
    "\n"
   ]
  },
  {
   "cell_type": "code",
   "execution_count": 3,
   "metadata": {},
   "outputs": [
    {
     "name": "stdout",
     "output_type": "stream",
     "text": [
      "Enter a number : 2\n",
      "Enter a number : 1\n",
      "Enter a number : 3\n",
      "average is : 2.0    maximum is : 3    minimum is : 1\n"
     ]
    }
   ],
   "source": [
    "#Todo\n",
    "list=[]\n",
    "number = int (input (\"Enter a number : \"))\n",
    "sum = 0\n",
    "for i in range (1 , number+1 ):\n",
    "    num = int(input(\"Enter a number : \"))\n",
    "    list.append(num)\n",
    "    sum = sum + num\n",
    "print(\"average is :\" , sum / number , end=\"    \" )\n",
    "print(\"maximum is :\" , max (list) , end=\"    \")\n",
    "print(\"minimum is :\", min(list)) \n",
    "#code ended"
   ]
  },
  {
   "cell_type": "markdown",
   "metadata": {},
   "source": [
    "### Task 17\n",
    "\n",
    "Write a Python program that asks the user for a quantity then takes that many numbers and prints the maximum, minimum and average of those numbers. \n",
    "\n",
    "**Example:**\n",
    "If the user enters 5 as an input for quantity. Then enters 10, 4, -1, -100, and 1. \\\n",
    "Your program output should be: “Maximum 10”, “Minimum -100”, “Average is -17.2” \n",
    "\n",
    "[Average calculation: (10+4 + (-1) + (-100) + 1)/5 = -86/5=-17.2]\n"
   ]
  },
  {
   "cell_type": "code",
   "execution_count": null,
   "metadata": {},
   "outputs": [],
   "source": [
    "#Todoquantity = int (input(\"Enter a quentity : \"))\n",
    "\n",
    "list_1 = []\n",
    "count=0\n",
    "for i in range ( quantity ):\n",
    "    num = int (input(\"Enter a number : \"))\n",
    "    count =count + 1\n",
    "    list_1.append(num)\n",
    "    \n",
    "\n",
    "print(\"Maximum number is : \", max(list_1))\n",
    "print(\"Minimum number is : \", min(list_1))\n",
    "print(\"avarage number is : \", sum(list_1) / len(list_1))\n",
    "\n"
   ]
  },
  {
   "cell_type": "code",
   "execution_count": 2,
   "metadata": {},
   "outputs": [
    {
     "name": "stdout",
     "output_type": "stream",
     "text": [
      "Enter a number : 2\n",
      "Enter a number : 8\n",
      "Enter a number : 4\n",
      "average is : 6.0    maximum is : 8    minimum is : 4\n"
     ]
    }
   ],
   "source": [
    "list=[]\n",
    "number = int (input (\"Enter a number : \"))\n",
    "sum = 0\n",
    "for i in range (1 , number+1 ):\n",
    "    num = int(input(\"Enter a number : \"))\n",
    "    list.append(num)\n",
    "    sum = sum + num\n",
    "print(\"average is :\" , sum / number , end=\"    \" )\n",
    "print(\"maximum is :\" , max (list) , end=\"    \")\n",
    "print(\"minimum is :\", min(list)) \n",
    "#code ended"
   ]
  },
  {
   "cell_type": "markdown",
   "metadata": {},
   "source": [
    "## vul#Todo\n",
    "num_1 = []\n",
    "quantity = int (input(\"Enter a quentity : \"))\n",
    "\n",
    "for i in range (quantity):\n",
    "    numbers = int (input(\"Enter a quentity : \"))\n",
    "    num_1 .append(numbers)\n",
    "\n",
    "sum1= num_1 [0] \n",
    "max_all =num_1 [0]\n",
    "min_all = num_1 [0]\n",
    "\n",
    "\n",
    "for c in num_1 :\n",
    "    if (c != 0):\n",
    "        sum1 = sum1 + c\n",
    "    if( c > max_all ):\n",
    "        max_all = c \n",
    "    if (c < min_all ):\n",
    "         min_all = c \n",
    "avg = 0\n",
    "avg =sum1 / quantity\n",
    "\n",
    "print(\"Maximum number is : \", max(num_1))\n",
    "print(\"Minimum number is : \", min(num_1))\n",
    "print(\"avarage number is : \", avg)\n"
   ]
  },
  {
   "cell_type": "code",
   "execution_count": null,
   "metadata": {},
   "outputs": [],
   "source": [
    "quantity = int (input(\"Enter a quentity : \"))\n",
    "\n",
    "list_1 = []\n",
    "\n",
    "for i in range ( quantity ):\n",
    "    num = int (input(\"Enter a number : \"))\n",
    "    count =count + 1\n",
    "    list_1.append(num)\n",
    "    \n",
    "for c in list_1 :\n",
    "    if (c != 0):\n",
    "        sum1 = sum1 + c\n",
    "avg = 0\n",
    "avg = sum1 / quantity\n",
    "\n",
    "print(\"Maximum number is : \", max(list_1))\n",
    "print(\"Minimum number is : \", min(list_1))\n",
    "print(\"avarage number is : \",avg )\n",
    "\n"
   ]
  },
  {
   "cell_type": "code",
   "execution_count": null,
   "metadata": {},
   "outputs": [],
   "source": []
  },
  {
   "cell_type": "code",
   "execution_count": null,
   "metadata": {},
   "outputs": [],
   "source": []
  },
  {
   "cell_type": "markdown",
   "metadata": {},
   "source": [
    "## Optional Tasks (18 -21)"
   ]
  },
  {
   "cell_type": "markdown",
   "metadata": {},
   "source": [
    "### Task 18\n",
    "\n",
    "Take five numbers from the user and find the minimum and the average of **only the even** numbers entered by the user. [If the user enters odd numbers ignore them]\n",
    "\n",
    "Assume, the first input is always an even number.\n",
    "\n",
    "**Example1:** \n",
    "\n",
    "If the user enters 10, 4, -1, -100, and 1. \\\n",
    "Output: “Minimum -100”, “Average is 28.66667” \\\n",
    "[Average calculation: (10+4 + (-100))/3 = -86/3=-28.66667]\n",
    "\n",
    "**Example2:**\n",
    "\n",
    "If the user enters 2, 10, 1, 21, and 3. \\\n",
    "Output: Minimum 2”, “Average is 6.0” \\\n",
    "Average calculation: [(2+10)/2 = 12/2= 6]"
   ]
  },
  {
   "cell_type": "code",
   "execution_count": null,
   "metadata": {},
   "outputs": [],
   "source": [
    "#Todo"
   ]
  },
  {
   "cell_type": "markdown",
   "metadata": {},
   "source": [
    "### Task 19\n",
    "\n",
    "Write a Python code for the following:\n",
    "* Ask the user to enter a number, N (Total number of inputs to be taken). Assume that the user will never enter the first number as zero.\n",
    "* Take N number of inputs\n",
    "* Prints out the product of all the numbers read\n",
    "\n",
    "For example, if the first input is 4, then the program has to read in four numbers from the user and print the product of these four numbers. \n",
    "\n",
    "**Example:**\\\n",
    "Input: 5 10 6 4 2 1 \\\n",
    "Output: 480\n",
    "\n",
    "Explanation:\n",
    "5 is the total number of inputs taken. Then, the calculation should be 10 X 6 X 4 X 2 X 1 = 480 \n",
    "\n",
    "\n"
   ]
  },
  {
   "cell_type": "code",
   "execution_count": null,
   "metadata": {},
   "outputs": [],
   "source": [
    "#Todo"
   ]
  },
  {
   "cell_type": "markdown",
   "metadata": {},
   "source": [
    "### Task 20\n",
    "Ask the user for a range (a starting number and an ending number). \n",
    "**Count** how many numbers are prime numbers and how many numbers are perfect numbers between that range and **print** those numbers. \n",
    "\n",
    "For example, between 2 and 6, there are 3 prime numbers (2, 3, 5) and 1 perfect number (6). \n",
    "\n",
    "\n",
    "**Example:**\\\n",
    "Sample Input: 2 6 \n",
    "\n",
    "Sample Output:\n",
    "\n",
    "Between 2 and 6,\\\n",
    "Found 3 prime numbers \\\n",
    "Found 1 perfect number.\\\n",
    "Prime numbers: 2, 3, 5.\\\n",
    "Perfect numbers: 6.\n",
    "\n"
   ]
  },
  {
   "cell_type": "code",
   "execution_count": null,
   "metadata": {},
   "outputs": [],
   "source": [
    "#Todo"
   ]
  },
  {
   "cell_type": "markdown",
   "metadata": {},
   "source": [
    "### Task 21\n",
    "Write a Python program that takes a number from the user and prints its digits from left to right. <font color='red'> (left to right) </font>\n",
    "\n",
    "**Example:** if the user gives 32768, then print 3, 2, 7, 6, 8 \n",
    "\n",
    "**Hint:**\n",
    "* You need to combine Task12 and Task13 for solving this problem.\n",
    "* Count how many digits are in the input number. <font color='red'>(While counting digits, do not modify the original number)</font> **[Task12]**\n",
    "* Calculate 10 to the power that number of digits minus 1. **[Task13]**\\\n",
    "(You can reuse the task11 or directly call math.pow(). While using math functions, you need to keep in mind that it returns everything in floating-point numbers.)\n",
    "\n",
    "Say, 32768 have 5 digits, so you calculate 10 to power 4 which is 10,000. \n",
    "Take the remainder of 32,768 by 10,000 and thus you get 2,768 \n",
    "Then  floor divide 32,768 by 10,000 and thus you get 3. \n",
    "Then floor divide 10,000 by 10 to get 1,000 \n",
    "\n",
    "Take the remainder of 2,768 by 1,000 and thus you get 768.\\\n",
    "Then floor divide 2,768 by 1,000 and thus you get 2.\\\n",
    "Then floor divide 10,00 by 10 to get 1,00 \n",
    "\n",
    "Keep going on until there are no more digits left (zero!). \n",
    "\n",
    "In short:\n",
    "\n",
    "Loop 1: First count digits; say 5 in this case for 32,768  \\\n",
    "Loop 2: Then calculate 10 to power 4 (5-1), which is 10,000. \\\n",
    "Loop 3: Then repeat following three steps \n",
    "\n",
    "32,768 % 10,000 = 2,768\n",
    "<br>\n",
    "32,768 // 10,000 = 3 \n",
    "<br>\n",
    "10,000//10 = 1,000 \n",
    "<br><br>\n",
    "\n",
    "2,768 % 1,000 = 768\n",
    "<br>\n",
    "2,768 //1,000 = 2 \n",
    "<br>\n",
    "1,000//10 = 100 \n",
    "<br><br>\n",
    "\n",
    "768 % 100 = 68 \n",
    "<br>\n",
    "768 // 100 = 7 \n",
    "<br>\n",
    "100//10 = 10 \n",
    "<br><br>\n",
    "\n",
    "68 % 10 = 8\n",
    "<br>\n",
    "68 //10 = 6 \n",
    "<br>\n",
    "10//10 = 1\n",
    "<br><br>\n",
    "\n",
    "8 % 1 = 0\n",
    "<br>\n",
    "8 //1 = 8 \n",
    "<br>\n",
    "1//10 = 0`\n",
    "\n",
    "\n",
    "Done! (When the digit count becomes 0, your loop should end.)\n",
    "\n"
   ]
  },
  {
   "cell_type": "code",
   "execution_count": null,
   "metadata": {},
   "outputs": [],
   "source": [
    "#Todo#Todo\n",
    "num = int (input(\"Enter a number : \"))\n",
    "count = 0\n",
    "if (num == 0):\n",
    "    count = count +1 \n",
    "while num!= 0 :\n",
    "    count = count +1\n",
    "    num = num//10\n",
    "if (count ==1 ):\n",
    "    print (count ,\"digits\")\n",
    "else :\n",
    "    print(count , \"Digits\")\n",
    "    \n"
   ]
  }
 ],
 "metadata": {
  "kernelspec": {
   "display_name": "Python 3",
   "language": "python",
   "name": "python3"
  },
  "language_info": {
   "codemirror_mode": {
    "name": "ipython",
    "version": 3
   },
   "file_extension": ".py",
   "mimetype": "text/x-python",
   "name": "python",
   "nbconvert_exporter": "python",
   "pygments_lexer": "ipython3",
   "version": "3.7.6"
  }
 },
 "nbformat": 4,
 "nbformat_minor": 2
}
