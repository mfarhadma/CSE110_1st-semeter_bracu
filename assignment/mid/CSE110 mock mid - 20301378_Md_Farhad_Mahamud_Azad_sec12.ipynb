{
 "cells": [
  {
   "cell_type": "markdown",
   "metadata": {
    "colab_type": "text",
    "id": "0ZcT5c9CjT8P"
   },
   "source": [
    "# SUMMER 2020\n",
    "\n",
    "# CSE110 MOCK MID\n",
    "**<font color='red'>[MUST MAINTAIN VARIABLE NAMING CONVENTIONS FOR ALL THE TASKS]</font>**\n",
    "\n",
    "**<font color='red'>[Writing comments(explanatory sentences) in any of the code is completely optional]</font>**"
   ]
  },
  {
   "cell_type": "markdown",
   "metadata": {
    "colab_type": "text",
    "id": "hQCnOmw6iWER"
   },
   "source": [
    "# Task 01\n",
    "Write a python code that will take the midterm marks of CSE110 from the user and then print message accordingly.\n",
    "\n",
    "\n",
    "\n",
    "*   If the mark is between 0 and 10 inclusive, your program should print **\"Fail. You should retake the course.\"**\n",
    "*   If the mark is between 11 and 20 inclusive, your program should print **\"Not satisfactory. Try harder to do better.\"**\n",
    "\n",
    "*   If the mark is between 21 and 30 inclusive, your program should print **\"Satisfactory. Try to clear all confusion before final.\"**\n",
    "*   For all other input your program should print **\"Invalid marks\"**.\n",
    "\n",
    "\n",
    " ================================\n",
    "\n",
    "**Sample input 1:**\\\n",
    "16\n",
    "\n",
    "**Sample output 1:**\\\n",
    "Not satisfactory. Try harder to do better\n",
    "\n",
    " ================================\n",
    "\n",
    "**Sample input 2:**\\\n",
    "31\n",
    "\n",
    "**Sample output 2:**\\\n",
    "Invalid marks"
   ]
  },
  {
   "cell_type": "code",
   "execution_count": 38,
   "metadata": {
    "colab": {},
    "colab_type": "code",
    "id": "P0vIwmbeiWEU"
   },
   "outputs": [
    {
     "name": "stdout",
     "output_type": "stream",
     "text": [
      "Enter midterm marks of CSE110 : 32\n",
      "invalid marks\n"
     ]
    }
   ],
   "source": [
    "#task 1\n",
    "#to do\n",
    "\n",
    "#taking mark from user.\n",
    "marks =int(input(\"Enter midterm marks of CSE110 : \"))\n",
    "\n",
    "#checking the mark that , is this valid or not.\n",
    "if ( marks < 0 or marks > 31 ):\n",
    "    print(\"invalid marks\")\n",
    "\n",
    "#print comments accordingly marks.\n",
    "elif(marks >= 0 and marks <=10 ):\n",
    "    print(\"Fail. You should retake the course.\")\n",
    "elif(marks >= 11 and marks <=20 ):\n",
    "    print(\"Not satisfactory. Try harder to do better.\")\n",
    "elif(marks >= 21 and marks <=30 ):\n",
    "    print(\"Satisfactory. Try to clear all confusion before final\")\n",
    "\n",
    "#code ended."
   ]
  },
  {
   "cell_type": "markdown",
   "metadata": {
    "colab_type": "text",
    "id": "zUyYKkWViWEd"
   },
   "source": [
    "# Task 02\n",
    "Take an integer number from the user and then print the  **largest digit** of that number.\n",
    "\n",
    "<font color='red'>[You are not allowed to use the max(), min(), sort(), sorted() functions here]</font>\n",
    "\n",
    "**Hint :**\\\n",
    "You may assume that the input number is a non negative number.\n",
    "\n",
    " ================================\n",
    "\n",
    "**Sample input 1:**\\\n",
    "42375\\\n",
    "**Sample output 1:**\\\n",
    "7\\\n",
    "*Exxplaination: 7 is the largest digit in 42375*\n",
    " \n",
    "  ================================\n",
    "\n",
    "**Sample input 2:**\\\n",
    "60301\\\n",
    "**Sample output 2:**\\\n",
    "6\\\n",
    "*Explaination: 6 is the largest digit in 60301*\n",
    "\n"
   ]
  },
  {
   "cell_type": "code",
   "execution_count": 1,
   "metadata": {
    "colab": {},
    "colab_type": "code",
    "id": "_oEJ6XwgiWEh"
   },
   "outputs": [
    {
     "name": "stdout",
     "output_type": "stream",
     "text": [
      "Enter an integer number : 654456789\n",
      "largest digit is 9\n"
     ]
    }
   ],
   "source": [
    "#task 2\n",
    "#to do\n",
    "#taking an integer number from the user.\n",
    "number = input(\"Enter an integer number : \")\n",
    "nmbr = []\n",
    "#taking digit as a element os list numbers.\n",
    "for sss in range ( len(number) ):\n",
    "    nmbr.append(number[sss])\n",
    "    \n",
    "#making all string in int. \n",
    "for ttt in range ( len(number) ):\n",
    "    int(number[ttt])\n",
    "    \n",
    "#checking the largest digit of that number.\n",
    "largest_digit = (number[0])\n",
    "for counter in range(0 , len(nmbr)):\n",
    "    if (nmbr[counter] > largest_digit):\n",
    "        largest_digit = nmbr[counter]\n",
    "        \n",
    "#print the largest_digit of given number.\n",
    "print( \"largest digit is\" , largest_digit)\n",
    "\n",
    "#code ended"
   ]
  },
  {
   "cell_type": "code",
   "execution_count": null,
   "metadata": {},
   "outputs": [],
   "source": []
  },
  {
   "cell_type": "markdown",
   "metadata": {
    "colab_type": "text",
    "id": "CEhXrQIhiWEo"
   },
   "source": [
    "# Task 03\n",
    "Write the python code that takes a String from the user and print all the **lowercase letters** of that string. \n",
    "\n",
    "**Hint :**\\\n",
    "You might need to use ASCII values for checking upper cases and lower cases.\n",
    " \n",
    "  ================================\n",
    " \n",
    "**Sample input 1:**\\\n",
    "I Want To go to the UNIVERSITY\n",
    "\n",
    "**Sample output 1:**\\\n",
    "antogotothe\n",
    " \n",
    "  ================================\n",
    "\n",
    "**Sample input 2:**\\\n",
    "cse110 is greEAT\n",
    "\n",
    "**Sample output 2:**\\\n",
    "cseisgre"
   ]
  },
  {
   "cell_type": "code",
   "execution_count": 39,
   "metadata": {
    "colab": {},
    "colab_type": "code",
    "id": "gWQIR06LiWEp"
   },
   "outputs": [
    {
     "name": "stdout",
     "output_type": "stream",
     "text": [
      " enter a string : SSFFGghhjj\n",
      "ghhjj"
     ]
    }
   ],
   "source": [
    "#task 3\n",
    "#to do\n",
    "#taking string from user.\n",
    "lowercase_letter= input(\" enter a string : \")\n",
    "\n",
    "#printing only the lower case characters from string.\n",
    "for iii in range(len(lowercase_letter)):\n",
    "    if (ord(lowercase_letter[iii]) > 96 and ord(lowercase_letter[iii]) < 123 ):\n",
    "        print(lowercase_letter[iii], end=\"\")\n",
    "        \n",
    "#code ended"
   ]
  },
  {
   "cell_type": "code",
   "execution_count": null,
   "metadata": {},
   "outputs": [],
   "source": []
  }
 ],
 "metadata": {
  "colab": {
   "name": "CSE110 mock mid [set 1].ipynb",
   "provenance": []
  },
  "kernelspec": {
   "display_name": "Python 3",
   "language": "python",
   "name": "python3"
  },
  "language_info": {
   "codemirror_mode": {
    "name": "ipython",
    "version": 3
   },
   "file_extension": ".py",
   "mimetype": "text/x-python",
   "name": "python",
   "nbconvert_exporter": "python",
   "pygments_lexer": "ipython3",
   "version": "3.7.6"
  }
 },
 "nbformat": 4,
 "nbformat_minor": 1
}
