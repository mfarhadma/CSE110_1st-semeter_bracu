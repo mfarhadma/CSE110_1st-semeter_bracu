{
 "cells": [
  {
   "cell_type": "markdown",
   "metadata": {},
   "source": [
    "# CSE110 Assignment 1\n",
    "\n",
    "This assignment is to guide you to solve basic programming problems in Python. Since this is the first assignment, the first problem is solved for you with explanations. Some problems are partially solved to help you. Go through them, try to understand and question each statment of the following questions and codes. If you can understand the problems and the solutions, solving more difficult problems would not seem so difficult. \n",
    "\n",
    "## Write the Python code of the following problems:\n"
   ]
  },
  {
   "cell_type": "markdown",
   "metadata": {},
   "source": [
    "### Task 1\n",
    "\n",
    "Write Python code of a program that reads two numbers from the user, and prints their sum, product, and difference.\n",
    "\n",
    "\n",
    "*hint: Subtract the second number from the first one*\n",
    "\n",
    "For your explanation, the first question's code is done below. Try relating the block of code with the lesson you have learned and understand the significance of each line. You're most welcome to play around with the code. This will strengthen your understanding.\n"
   ]
  },
  {
   "cell_type": "code",
   "execution_count": 12,
   "metadata": {},
   "outputs": [
    {
     "name": "stdout",
     "output_type": "stream",
     "text": [
      "Please Enter Your First Number7\n",
      "Please Enter Your Second Number0\n",
      "<class 'str'>\n",
      "<class 'str'>\n",
      "Sum is 7\n",
      "Product is 0\n",
      "Difference is -7\n"
     ]
    }
   ],
   "source": [
    "### Take input of 2 numbers from the user\n",
    "var_1 = input('Please Enter Your First Number')\n",
    "var_2 = input('Please Enter Your Second Number')\n",
    "\n",
    "#Since input() function converts everything to String,\n",
    "#for performing any kind of mathematical operation you need to convert them to int.\n",
    "#For this conversion, we need to use int() function\n",
    "\n",
    "\n",
    "# First, let's clarify whether the inputs are actually Strings or not. \n",
    "print(type(var_1))\n",
    "print(type(var_2))\n",
    "\n",
    "\n",
    "# Convert Strings to integer using the int() function\n",
    "var_3 = int(var_1)\n",
    "var_4 = int(var_2)\n",
    "\n",
    "# Perform Addition\n",
    "sum = var_3 + var_4\n",
    "\n",
    "# Perform Multiplication \n",
    "product = var_3 * var_4\n",
    "\n",
    "# Perform Substraction \n",
    "difference = var_4 - var_3\n",
    "\n",
    "# Print all the calculated results\n",
    "print(\"Sum is\", sum)\n",
    "print(\"Product is\", product)\n",
    "print(\"Difference is\", difference)\n"
   ]
  },
  {
   "cell_type": "markdown",
   "metadata": {},
   "source": [
    "### Task 2\n",
    "\n",
    "Write Python code of a program that reads the radius of a circle and prints its circumference and area.\n",
    "\n",
    "*hint: import math and then use math.pi for getting the value of pi. \n",
    "For details read from https://docs.python.org/3/library/math.html*\n",
    "\n",
    "**Example:**\\\n",
    "Input: 4\\\n",
    "Output:\\\n",
    "Area is 50.26548245743669\\\n",
    "Circumference is 25.132741228718345\n",
    "\n",
    "Input: 3.5\\\n",
    "Output:\\\n",
    "Area is 38.48451000647496\\\n",
    "Circumference is 21.991148575128552\n"
   ]
  },
  {
   "cell_type": "code",
   "execution_count": 8,
   "metadata": {},
   "outputs": [
    {
     "name": "stdout",
     "output_type": "stream",
     "text": [
      "Please Enter a redious 4\n",
      "Circumference is  25.132741228718345\n",
      "Area is 50.26548245743669\n"
     ]
    }
   ],
   "source": [
    "import math\n",
    "#Todo\n",
    "\n",
    "'''Start your Code from the Line Below'''\n",
    "\n",
    "#taking input of radius\n",
    "\n",
    "rad = float(input('Please Enter a redious '))\n",
    "\n",
    "\n",
    "#checking math.pi value\n",
    "\n",
    "#print(math.pi)\n",
    "\n",
    "\n",
    "\n",
    "# Performing circumference.\n",
    "\n",
    "circumference = 2 * math.pi * rad\n",
    "\n",
    "\n",
    "\n",
    "# Performing area\n",
    "\n",
    "area = math.pi * rad**2\n",
    "\n",
    "\n",
    "\n",
    "#checking the input.\n",
    "\n",
    "if( rad < 0 ):\n",
    "\n",
    "    print(\"invalid input. Please Enter a positive number. Radius can not be a nagative number.\")\n",
    "\n",
    "\n",
    "else :\n",
    "    print(\"Circumference is \", circumference)\n",
    "    print(\"Area is\", area)\n",
    "\n",
    "#code ended"
   ]
  },
  {
   "cell_type": "markdown",
   "metadata": {},
   "source": [
    "### Task 3\n",
    "\n",
    "Write Python code of a program that reads two numbers from the user. Your program should then print “First is greater” if the first number is greater, “Second is greater” if the second number is greater, and “The numbers are equal” otherwise."
   ]
  },
  {
   "cell_type": "code",
   "execution_count": 9,
   "metadata": {},
   "outputs": [
    {
     "name": "stdout",
     "output_type": "stream",
     "text": [
      "Please Enter Your First Number  -7\n",
      "Please Enter Your Second Number  -6\n",
      "second is grater\n"
     ]
    }
   ],
   "source": [
    "#Todo\n",
    "\n",
    "#Teke input of 2 numbers\n",
    "\n",
    "num_1 = int(input('Please Enter Your First Number  '))\n",
    "\n",
    "num_2 = int(input('Please Enter Your Second Number  '))\n",
    "\n",
    "\n",
    "'''#clarifying whether the inputs are actually int or not. \n",
    "\n",
    "print(type(num_1))\n",
    "print(type(num_2))'''\n",
    "\n",
    "\n",
    "#performing code for running like condition.\n",
    "\n",
    "if (num_1 > num_2) :\n",
    "    print(\"frist is grater\")\n",
    "    \n",
    "elif  (num_1 < num_2) :\n",
    "    print(\"second is grater\")\n",
    "\n",
    "else :\n",
    "    print(\"the number are equal\")\n",
    "\n",
    "# code ended\n"
   ]
  },
  {
   "cell_type": "markdown",
   "metadata": {},
   "source": [
    "### Task 4\n",
    "\n",
    "Write Python code of a program that reads two numbers, subtracts the smaller number from the larger one, and prints the result.\n",
    "\n",
    "*hint: First check which number is greater*\n"
   ]
  },
  {
   "cell_type": "code",
   "execution_count": 10,
   "metadata": {},
   "outputs": [
    {
     "name": "stdout",
     "output_type": "stream",
     "text": [
      "Please Enter Your First Number  -8\n",
      "Please Enter Your Second Number  -5\n",
      "subtract result is : 3\n"
     ]
    }
   ],
   "source": [
    "#Todo\n",
    "\n",
    "#Teke input of 2 numbers\n",
    "\n",
    "num_1 = int(input('Please Enter Your First Number  '))\n",
    "\n",
    "num_2 = int(input('Please Enter Your Second Number  '))\n",
    "\n",
    "\n",
    "#performing code for running like condition. #using ( if elif else ) for finding the result.\n",
    "\n",
    "if (num_1 > num_2) :\n",
    "    sub = num_1 - num_2\n",
    "    print(\"subtract result is : \" + str(sub))\n",
    "    \n",
    "elif  (num_1 < num_2) :\n",
    "    sub = num_2 - num_1\n",
    "    print(\"subtract result is : \" + str(sub))\n",
    "\n",
    "else :\n",
    "    print(\"the numbers are equal . so subtract is 0 \")\n",
    "\n",
    "# code ended\n"
   ]
  },
  {
   "cell_type": "markdown",
   "metadata": {},
   "source": [
    "### Task 5\n",
    "\n",
    "Write Python code of a program that reads a number, and prints “The number is even” or “The number is odd”, depending on whether the number is even or odd. \n",
    "\n",
    "*hint: use the modulus (%) operator*\n"
   ]
  },
  {
   "cell_type": "code",
   "execution_count": 11,
   "metadata": {},
   "outputs": [
    {
     "name": "stdout",
     "output_type": "stream",
     "text": [
      "enter a number -5\n",
      "The number is odd\n"
     ]
    }
   ],
   "source": [
    "#taking input of a number.\n",
    "\n",
    "num = int( input(\"enter a number \"))\n",
    "\n",
    "\n",
    "#checking number, is it even or odd?\n",
    "\n",
    "if (num % 2 == 0):\n",
    "    print(\"The number is Even\")\n",
    "    \n",
    "if (num %2 != 0):\n",
    "    print(\"The number is odd\")\n",
    "    \n",
    "\n",
    "#code ended"
   ]
  },
  {
   "cell_type": "markdown",
   "metadata": {},
   "source": [
    "### Task 6\n",
    "\n",
    "Write Python code of a program that reads an integer, and prints the integer if it is a multiple of **either 2 or 5.**\n",
    "\n",
    "For example, 2, 4, 5, 6, 8, 10, 12, 14, 15, 16, 18, 20, 22 …\n",
    "\n"
   ]
  },
  {
   "cell_type": "code",
   "execution_count": 5,
   "metadata": {},
   "outputs": [
    {
     "name": "stdout",
     "output_type": "stream",
     "text": [
      "entrt a number 65\n",
      "The integer is :  65\n"
     ]
    }
   ],
   "source": [
    "#Todo\n",
    "\n",
    "#taking a input of integer\n",
    "\n",
    "num = int(input(\"entrt a number \" ))\n",
    "\n",
    "\n",
    "#checking the number. is it a multiple of either 2 or 5 ?\n",
    "\n",
    "if ( num %2==0 or num %5 ==0 ):\n",
    "    \n",
    "    print(\"The integer is : \" , num)\n",
    "    \n",
    "    \n",
    "else :\n",
    "    \n",
    "    print(\"No , This number is not a multiple of either 2 or 5\")\n",
    "    \n",
    "\n",
    "#code ended"
   ]
  },
  {
   "cell_type": "markdown",
   "metadata": {},
   "source": [
    "### Task 7\n",
    "Write Python code of a program that reads an integer, and prints the integer  it is a multiple of **either 2 or 5 but not both.** \n",
    "\n",
    "For example, 2, 4, 5, 6, 8, 12, 14, 15, 16, 18, 22 …\n"
   ]
  },
  {
   "cell_type": "code",
   "execution_count": 8,
   "metadata": {},
   "outputs": [
    {
     "name": "stdout",
     "output_type": "stream",
     "text": [
      "entrt a number 6\n",
      "The integer is :  6\n"
     ]
    }
   ],
   "source": [
    "#Todo\n",
    "\n",
    "#taking a input of integer.\n",
    "\n",
    "num = int(input(\"entrt a number \" ))\n",
    "\n",
    "#checking the number\n",
    "\n",
    "if (num % 2 == 0 and num % 5==0):\n",
    "\n",
    "    print(\"This number is a multiple of both 2 and 5 \")\n",
    "    \n",
    "\n",
    "elif ( num %2==0 or num %5 ==0 ):\n",
    "    \n",
    "    print( \"The integer is : \" , num)\n",
    "    \n",
    "    \n",
    "else :\n",
    "    print(\"No , This number is not a multiple of either 2 or 5\")\n",
    "    \n",
    "\n",
    "#code ended"
   ]
  },
  {
   "cell_type": "markdown",
   "metadata": {},
   "source": [
    "### Task 8\n",
    "Write Python code of a program that reads an integer, and prints the integer if it is a multiple of **2 and 5.**\n",
    "\n",
    "For example, 10, 20, 30, 40, 50 …\n",
    "\n"
   ]
  },
  {
   "cell_type": "code",
   "execution_count": 15,
   "metadata": {},
   "outputs": [
    {
     "name": "stdout",
     "output_type": "stream",
     "text": [
      "entrt a number -80\n",
      "This integer is : \n"
     ]
    }
   ],
   "source": [
    "#Todo\n",
    "\n",
    "#taking a input of integer.\n",
    "\n",
    "num = int(input(\"entrt a number \" ))\n",
    "\n",
    "\n",
    "#checking the number . is it multiple of 2 and 5 or not?\n",
    "\n",
    "if (num % 2 == 0 and num % 5==0):\n",
    "\n",
    "    print(\"This integer is : \")\n",
    "    \n",
    "    \n",
    "else :\n",
    "    \n",
    "    print(\"No , This number is not a multiple of both 2 and 5\")\n",
    "    \n",
    "\n",
    "#code ended"
   ]
  },
  {
   "cell_type": "markdown",
   "metadata": {},
   "source": [
    "### Task 9\n",
    "\n",
    "\n",
    "Write Python code of a program that reads an integer, and prints the integer if it is a multiple of **NEITHER 2 NOR 5.** \n",
    "\n",
    "For example, 1, 3, 7, 9, 11, 13, 17, 19, 21, 23, 27, 29, 31, 33, 37, 39 …\n"
   ]
  },
  {
   "cell_type": "code",
   "execution_count": 7,
   "metadata": {},
   "outputs": [
    {
     "name": "stdout",
     "output_type": "stream",
     "text": [
      "entrt a number 2\n",
      "No , This number is not a multiple of either 2 or 5\n"
     ]
    }
   ],
   "source": [
    "#Todo\n",
    "\n",
    "#taking a input of integer\n",
    "\n",
    "num = int(input(\"entrt a number \" ))\n",
    "\n",
    "\n",
    "#checking the number.\n",
    "\n",
    "if (num % 2 != 0 and num % 5 != 0):\n",
    "\n",
    "    print(\"The integer is : \" , num)\n",
    "\n",
    "    \n",
    "else :\n",
    "    print(\"No , This number is not a multiple of either 2 or 5\")\n",
    "    \n",
    "    \n",
    "#code ended."
   ]
  },
  {
   "cell_type": "markdown",
   "metadata": {},
   "source": [
    "### Task 10\n",
    "\n",
    "Write Python code of a program that reads an integer, and prints the integer if it is **NOT a multiple of 2** OR **NOT a multiple of 5.**\n",
    "\n",
    "For example, 1, 2, 3, 4, 5, 6, 7, 8, 9, 11, 12, 13, 14, 15, 16, 17, 18, 19, 21, 22\n"
   ]
  },
  {
   "cell_type": "code",
   "execution_count": null,
   "metadata": {},
   "outputs": [],
   "source": [
    "#Todo\n",
    "\n",
    "\n",
    "#taking a input of integer .\n",
    "\n",
    "num = int(input(\"entrt a number \" ))\n",
    "\n",
    "\n",
    "#checking the number.\n",
    "\n",
    "if ( num %2 != 0 or num %2 !=0 ):\n",
    "    \n",
    "    print(\"The integer is : \" , num)\n",
    "    \n",
    "    \n",
    "else :\n",
    "    \n",
    "    print(\"No , This number is a multiple of either 2 or 5\")\n",
    "    \n",
    "\n",
    "#code ended."
   ]
  },
  {
   "cell_type": "markdown",
   "metadata": {},
   "source": [
    "### Task 11\n",
    "\n",
    "Write Python code of a program that reads a student’s mark for a single subject, and prints out the corresponding grade for that mark. The mark ranges and corresponding grades are shown in the table below.\n",
    "\n",
    "*hint: This problem can be solved in two ways: top-down (starts from A) and bottom-up (starts from F)*\n",
    "\n",
    "\n",
    "| Marks | Grage|\n",
    "| --- | --- | \n",
    "|90 or above| A |\n",
    "|  |  | \n",
    "|80-89| B |\n",
    "|  |  | \n",
    "|70-79| C |\n",
    "|  |  | \n",
    "|60-69| D |\n",
    "|  |  | \n",
    "|50-59| E |\n",
    "|  |  | \n",
    "|Below 50| F |\n",
    "\n",
    "\n",
    "\n",
    "\n",
    "\n"
   ]
  },
  {
   "cell_type": "code",
   "execution_count": null,
   "metadata": {},
   "outputs": [],
   "source": [
    "#Todo\n",
    "\n",
    "#taking input of grade\n",
    "\n",
    "mark = int(input(\"Enter a mark : \"))\n",
    "\n",
    " \n",
    "#checking the grade\n",
    "\n",
    "if( mark > 100 or mark < 0 ):\n",
    "   print(\"Invalid mark\")\n",
    "          \n",
    "elif(mark >= 90 ):\n",
    "    print(\"Grade is : A\")\n",
    "    \n",
    "elif( mark >= 80 ):\n",
    "    print(\"Grade is : B\")\n",
    "    \n",
    "elif( mark >= 70 ):\n",
    "    print(\"Grade is : C\")\n",
    "    \n",
    "elif( mark >= 60 ):\n",
    "    print(\"Grade is : D\")\n",
    "    \n",
    "elif( mark >= 50 ):\n",
    "    print(\"Grade is : E\")\n",
    "    \n",
    "elif( mark < 50 ):\n",
    "    print(\"Grade is : F\")\n",
    "    \n",
    "    \n",
    "#code ended"
   ]
  },
  {
   "cell_type": "markdown",
   "metadata": {},
   "source": [
    "### Task 12\n",
    "\n",
    "Write Python code of a program to compute and display a person’s weekly salary as determined by the following conditions:\n",
    "If the hours worked are less than or equal to 40, the person receives Tk200.00 per hour, else the person receives Tk8000.00 plus Tk300.00 for each hour worked over 40 hours.\n",
    "The program should request the hours worked as input and should display the salary as output.\n",
    "\n",
    "**example1:**\\\n",
    "Input: 100\\\n",
    "Output: 26000\n",
    "\n",
    "**example2:**\\\n",
    "Input: 30\\\n",
    "Output: 6000\n"
   ]
  },
  {
   "cell_type": "code",
   "execution_count": 15,
   "metadata": {},
   "outputs": [
    {
     "name": "stdout",
     "output_type": "stream",
     "text": [
      "Enter work hour : 100\n",
      "The person salary :  26000 taka\n"
     ]
    }
   ],
   "source": [
    "#Todo\n",
    "\n",
    "#taking input of hour\n",
    "\n",
    "work_hour = int(input(\"Enter work hour : \"))\n",
    "\n",
    "\n",
    "#checking the input\n",
    "\n",
    "if( work_hour < 0 ):\n",
    "    print(\"invalid number. Please Enter a positive number \")\n",
    "\n",
    "\n",
    "#Calculating the salary\n",
    "\n",
    "\n",
    "elif (work_hour <= 40):  \n",
    "    print ( \"The person salary : \" , 200* work_hour ,\"taka\" )\n",
    "    \n",
    "    \n",
    "elif (work_hour > 40):  \n",
    "    print ( \"The person salary : \" , 8000 + (300* ( work_hour - 40)) , \"taka\" )\n",
    "    \n",
    "\n",
    "#code_ended"
   ]
  },
  {
   "cell_type": "markdown",
   "metadata": {},
   "source": [
    "### Task 13\n",
    "Write Python code of a program that finds the number of hours, minutes, and seconds in a **given number of seconds.** \n",
    "\n",
    "**Example:**\\\n",
    "Input: 10000 seconds\\\n",
    "Output: 2 Hours 46 minutes, 40 seconds\n",
    "\n",
    "*hints: 1 hour = 60 mins = 3600 seconds*\\\n",
    "*1min = 60 seconds* \n",
    "\n",
    "\n",
    "\n",
    "\n"
   ]
  },
  {
   "cell_type": "code",
   "execution_count": 19,
   "metadata": {},
   "outputs": [
    {
     "name": "stdout",
     "output_type": "stream",
     "text": [
      "input the number of seconds : -900\n",
      "invalid input. Please input a positive number. time can not be nagative . \n",
      "-1  Hours  45 munites 0 seconds\n"
     ]
    }
   ],
   "source": [
    "#Todo\n",
    "\n",
    "#taking input of seconds\n",
    "\n",
    "time =int(input(\"input the number of seconds : \"))\n",
    "\n",
    "#checking input. is it valid or not?\n",
    "#if user input a nagative number,uesr will be informed but it will convert the secound into hour-munite-second.\n",
    "\n",
    "if ( time < 0 ):\n",
    "\n",
    "    print(\"invalid input. Please Enter a positive number. time can not be nagative . \")\n",
    "    \n",
    "\n",
    "#calculating hour \n",
    "\n",
    "hour = time // 3600\n",
    "\n",
    "extra = time % 3600\n",
    "\n",
    "\n",
    "#calculating minute\n",
    "\n",
    "munite = extra// 60\n",
    "\n",
    "\n",
    "#calculating second\n",
    "\n",
    "second = extra % 60\n",
    "\n",
    "\n",
    "\n",
    "#code for showing the output.\n",
    "\n",
    "print( hour ,\" Hours \" , munite ,\"munites\" , second,\"seconds\")\n",
    "\n",
    "#code ended"
   ]
  },
  {
   "cell_type": "markdown",
   "metadata": {},
   "source": [
    "##### Task 14\n",
    "Suppose the following expressions are used to calculate the values of L for different values of S:\n",
    "\n",
    "$L =  3000-125S^2$ \n",
    "if     $S<100$\n",
    "\n",
    "$ L =  \\frac{12000}{4+S^2/14900}$\n",
    "if     $S\\geq100$\n",
    "\n",
    "Write a Python code of a program that reads a value of S and then calculates the value of L.\n",
    "\n",
    "For example:\\\n",
    "If S=3, L= 1875.\\\n",
    "If S=120, L= 2416.2162162162163\n",
    "\n",
    "\n",
    "*hints: You can import math and use math function for making squares math.pow(number, power)   Or you can simply write S**2.*"
   ]
  },
  {
   "cell_type": "code",
   "execution_count": 17,
   "metadata": {},
   "outputs": [
    {
     "name": "stdout",
     "output_type": "stream",
     "text": [
      "Enter the of S : 120\n",
      "If S= 120 L=  2416.2162162162163\n"
     ]
    }
   ],
   "source": [
    "#Todo\n",
    "\n",
    "#taking input of S\n",
    "\n",
    "sss =int(input(\"Enter the of S : \"))\n",
    "\n",
    "\n",
    "#calculating L expressions.\n",
    "\n",
    "lll = 3000 - 125 * sss ** 2\n",
    "\n",
    "\n",
    "#calculating c Expressions .\n",
    "\n",
    "lll_2 = 12000/ ( 4 + sss**2/14900)\n",
    "\n",
    "\n",
    "#applying Condition.\n",
    "\n",
    "if ( sss < 100 ):\n",
    "    print(\"If S=\" , sss ,\"L= \", lll)\n",
    "    \n",
    "if (sss >= 100):\n",
    "    print(\"If S=\" , sss ,\"L= \", lll_2)\n",
    "\n",
    "#code ended."
   ]
  },
  {
   "cell_type": "markdown",
   "metadata": {},
   "source": [
    "### Task 15\n",
    "\n",
    "Take an hour from the user as input and tell it is time for which meal.\n",
    "\n",
    "•\tThe user will input the number in a 24-hour format. So, 14 means 2 pm, 3 means 3 am, 18 means 6 pm, etc.\\\n",
    "•\tValid inputs are 0 to 23. Inputs less than 0 or more than 23 are invalid in 24-hour clock.\\\n",
    "•\tAssume, Input will be whole numbers. For example, 3.5 will NOT be given as input.\n",
    "\n",
    "Inputs: Message to be printed\\\n",
    "4 to 6: Breakfast\\\n",
    "12 to 13: Lunch\\\n",
    "16 to 17: Snacks\\\n",
    "19 to 20: Dinner\\\n",
    "For all other valid inputs, say \"Patience is a virtue\"\\\n",
    "For all other invalid inputs, say \"Wrong time\"\n",
    "\n",
    "For example,\\\n",
    "If the user enters 4, your program should print the message \"Breakfast\".\\\n",
    "If the user enters 5, your program should print the message \"Breakfast\".\\\n",
    "If the user enters 6, your program should print the message \"Breakfast\".\\\n",
    "If the user enters 0, your program should print the message \"Patience is a virtue\".\\\n",
    "If the user enters 1, your program should print the message \"Patience is a virtue\".\\\n",
    "If the user enters 18, your program should print the message \"Patience is a virtue\".\\\n",
    "If the user enters 23, your program should print the message \"Patience is a virtue\".\\\n",
    "If the user enters 24, your program should print the message \"Wrong Time\".\\\n",
    "If the user enters -1, your program should print the message \"Wrong Time\".\\\n",
    "If the user enters 27, your program should print the message \"Wrong time\".\n",
    "\n",
    "Hints:\\\n",
    "You can use nested conditionals (if-else) or chained conditions (if-elif-else) to solve this problem.\n",
    "\n"
   ]
  },
  {
   "cell_type": "code",
   "execution_count": 19,
   "metadata": {},
   "outputs": [
    {
     "name": "stdout",
     "output_type": "stream",
     "text": [
      "Enter a number of Hour : 22\n",
      "Patience is a virtue\n"
     ]
    }
   ],
   "source": [
    "#Todo\n",
    "\n",
    "#taking input of time\n",
    "hour = int(input(\"Enter a number of Hour : \"))\n",
    "\n",
    "\n",
    "#checking the time, is it valid or invalid?\n",
    "\n",
    "if( hour >= 24 or hour < 0 ) :\n",
    "    print(\"Wrong time\")\n",
    "    \n",
    "\n",
    "#checking it is time for which meal.\n",
    "    \n",
    "elif ( hour > 3 and hour < 7  ):\n",
    "    print(\"Breakfast\")\n",
    "\n",
    "elif ( hour >11 and hour < 14):\n",
    "    print(\"Lunch\")\n",
    "    \n",
    "elif ( hour > 15 and hour < 18 ):\n",
    "    print(\"Snacks\")\n",
    "\n",
    "elif ( hour >18and hour < 21 ):\n",
    "    print(\"Dinner\")\n",
    "    \n",
    "else:\n",
    "    print(\"Patience is a virtue\")\n",
    "    \n",
    "\n",
    "#code ended."
   ]
  },
  {
   "cell_type": "code",
   "execution_count": null,
   "metadata": {},
   "outputs": [],
   "source": []
  }
 ],
 "metadata": {
  "kernelspec": {
   "display_name": "Python 3",
   "language": "python",
   "name": "python3"
  },
  "language_info": {
   "codemirror_mode": {
    "name": "ipython",
    "version": 3
   },
   "file_extension": ".py",
   "mimetype": "text/x-python",
   "name": "python",
   "nbconvert_exporter": "python",
   "pygments_lexer": "ipython3",
   "version": "3.7.6"
  }
 },
 "nbformat": 4,
 "nbformat_minor": 4
}
